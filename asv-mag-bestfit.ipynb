{
 "cells": [
  {
   "cell_type": "markdown",
   "metadata": {},
   "source": [
    "## Map ASV results to MAG relative abundance results\n",
    "Find best fit ASV identity for each MAG"
   ]
  },
  {
   "cell_type": "code",
   "execution_count": 1,
   "metadata": {},
   "outputs": [
    {
     "name": "stderr",
     "output_type": "stream",
     "text": [
      "── Attaching packages ─────────────────────────────────────── tidyverse 1.3.0 ──\n",
      "✔ ggplot2 3.3.2     ✔ purrr   0.3.4\n",
      "✔ tibble  3.0.3     ✔ dplyr   1.0.0\n",
      "✔ tidyr   1.1.0     ✔ stringr 1.4.0\n",
      "✔ readr   1.3.1     ✔ forcats 0.4.0\n",
      "── Conflicts ────────────────────────────────────────── tidyverse_conflicts() ──\n",
      "✖ dplyr::filter() masks stats::filter()\n",
      "✖ dplyr::lag()    masks stats::lag()\n"
     ]
    }
   ],
   "source": [
    "# Library loading\n",
    "library(tidyverse); library(broom); library(ggtext)"
   ]
  },
  {
   "cell_type": "code",
   "execution_count": 2,
   "metadata": {},
   "outputs": [
    {
     "name": "stdout",
     "output_type": "stream",
     "text": [
      "Loading objects:\n",
      "  tara_tax_df\n"
     ]
    },
    {
     "name": "stderr",
     "output_type": "stream",
     "text": [
      "Warning message:\n",
      "“`funs()` is deprecated as of dplyr 0.8.0.\n",
      "Please use a list of either functions or lambdas: \n",
      "\n",
      "  # Simple named list: \n",
      "  list(mean = mean, median = median)\n",
      "\n",
      "  # Auto named with `tibble::lst()`: \n",
      "  tibble::lst(mean, median)\n",
      "\n",
      "  # Using lambdas\n",
      "  list(~ mean(., trim = .2), ~ median(., na.rm = TRUE))\n",
      "This warning is displayed once every 8 hours.\n",
      "Call `lifecycle::last_warnings()` to see where this warning was generated.”Joining, by = \"ASV_run_accession\"\n",
      "Joining, by = \"MAG_run_accession\"\n",
      "Joining, by = \"mag\"\n"
     ]
    }
   ],
   "source": [
    "# Import list of ERR values with sampleIDs to link sample names between ASV and MAG data\n",
    "err_joined <- read.delim(\"joined-ERRxxx-MAG-ASV.txt\"); #head(err_joined)\n",
    "\n",
    "# Import ASV taxonomy assignment results\n",
    "load(\"tara-taxassign-30-06-2020.RData\", verbose = T)\n",
    "\n",
    "# Modify original ASV taxonomy from PR2 to be more similar to MAG taxa\n",
    "## but include seq IDs to match with data\n",
    "asv_tax <- tara_tax_df %>% \n",
    "    setNames(paste0(\"ASV_\", names(.))) %>% \n",
    "    # Create original column to link back with original name schematic\n",
    "    unite(ORIGINAL, starts_with(\"ASV_\"), sep = \";\", remove = FALSE)  %>%\n",
    "    rownames_to_column(var = \"seq\") %>% \n",
    "    select(-ASV_Kingdom) %>% \n",
    "    # Replace taxname_XX with dashes, keep the first occurence when there is only 1 X\n",
    "    mutate_at(vars(starts_with(\"ASV_\")), funs(str_replace(., pattern = \"(\\\\w+_XX+$|\\\\w+_XX+_sp.$)\", replacement = \"-\"))) %>% \n",
    "    # Replace underscore with a space when not followed by an X\n",
    "    mutate_at(vars(starts_with(\"ASV_\")), funs(str_replace(., pattern = \"_(?!X)\", replacement = \" \"))) %>% \n",
    "    unite(fullname, starts_with(\"ASV_\"), sep = \";\", remove = FALSE, na.rm = TRUE) %>% \n",
    "    mutate_at(vars(fullname), funs(str_replace_all(., pattern = \";-\", replacement = \"\"))) %>% \n",
    "    data.frame\n",
    "\n",
    "# Import and format ASV results\n",
    "tara <- readRDS(\"st.consensus.rds\")\n",
    "\n",
    "asv_relab <- as.data.frame(t(tara)) %>% # Transform\n",
    "    rownames_to_column(var = \"seq\") %>% # Retrieve row names\n",
    "    pivot_longer(cols = starts_with(\"ERR\")) %>% # Convert to long format\n",
    "    select(seq, ASV_run_accession = name, value) %>%\n",
    "    left_join(asv_tax, by = \"seq\") %>% \n",
    "    # Calculate relative abundance (out of 100) # This matches the MAG format\n",
    "    group_by(ASV_run_accession) %>% \n",
    "    mutate(RelAbun = 100*(value / sum(value))) %>% \n",
    "    select(-ORIGINAL, -value) %>%\n",
    "    filter(RelAbun > 0) %>% \n",
    "    # Join by err match list, so sampleids match up to the ERR ids from ASV data\n",
    "    left_join(select(err_joined, -MAG_run_accession)) %>% \n",
    "    # Modify column headers so they match the MAG-based data\n",
    "    rename_all(. %>% tolower %>% gsub(\"asv_\", \"\", .)) %>% \n",
    "    data.frame\n",
    "\n",
    "# Import results from MAG-based taxonomic assignment\n",
    "mag_tax <- read.delim(\"/vortexfs1/omics/alexander/shu/euk_mag_abund/high-euk.50cutoff.tab\")\n",
    "\n",
    "# Import results from MAG-based relative abundances\n",
    "mag_relab_df <- read.delim(\"/vortexfs1/omics/alexander/shu/euk_mag_abund/MAG_relative_abundance.tab\")\n",
    "\n",
    "# Prep MAG-based data to map ASV results \n",
    "mag_relab <- mag_relab_df %>% \n",
    "    # Pivot to long format\n",
    "    pivot_longer(cols = starts_with(\"ERR\")) %>% \n",
    "    # Remove 0 values\n",
    "    filter(value > 0) %>%  \n",
    "    select(mag = Genome, MAG_run_accession = name, RelAbun = value) %>% \n",
    "    # Join by err match list, so sampleids match up to the ERR ids from ASV data\n",
    "    left_join(select(err_joined, -ASV_run_accession)) %>%\n",
    "    # Join with taxonomic information\n",
    "    left_join(mag_tax) %>% \n",
    "    rename_all(. %>% tolower %>% gsub(\"mag_\", \"\", .)) %>%\n",
    "#     select(-fullfamily) %>% \n",
    "    data.frame\n",
    "# head(mag_relab_df_l[1:2,])"
   ]
  },
  {
   "cell_type": "code",
   "execution_count": 3,
   "metadata": {},
   "outputs": [
    {
     "data": {
      "text/html": [
       "<ol class=list-inline>\n",
       "\t<li>'seq'</li>\n",
       "\t<li>'ORIGINAL'</li>\n",
       "\t<li>'fullname'</li>\n",
       "\t<li>'ASV_Supergroup'</li>\n",
       "\t<li>'ASV_Division'</li>\n",
       "\t<li>'ASV_Class'</li>\n",
       "\t<li>'ASV_Order'</li>\n",
       "\t<li>'ASV_Family'</li>\n",
       "\t<li>'ASV_Genus'</li>\n",
       "\t<li>'ASV_Species'</li>\n",
       "</ol>\n"
      ],
      "text/latex": [
       "\\begin{enumerate*}\n",
       "\\item 'seq'\n",
       "\\item 'ORIGINAL'\n",
       "\\item 'fullname'\n",
       "\\item 'ASV\\_Supergroup'\n",
       "\\item 'ASV\\_Division'\n",
       "\\item 'ASV\\_Class'\n",
       "\\item 'ASV\\_Order'\n",
       "\\item 'ASV\\_Family'\n",
       "\\item 'ASV\\_Genus'\n",
       "\\item 'ASV\\_Species'\n",
       "\\end{enumerate*}\n"
      ],
      "text/markdown": [
       "1. 'seq'\n",
       "2. 'ORIGINAL'\n",
       "3. 'fullname'\n",
       "4. 'ASV_Supergroup'\n",
       "5. 'ASV_Division'\n",
       "6. 'ASV_Class'\n",
       "7. 'ASV_Order'\n",
       "8. 'ASV_Family'\n",
       "9. 'ASV_Genus'\n",
       "10. 'ASV_Species'\n",
       "\n",
       "\n"
      ],
      "text/plain": [
       " [1] \"seq\"            \"ORIGINAL\"       \"fullname\"       \"ASV_Supergroup\"\n",
       " [5] \"ASV_Division\"   \"ASV_Class\"      \"ASV_Order\"      \"ASV_Family\"    \n",
       " [9] \"ASV_Genus\"      \"ASV_Species\"   "
      ]
     },
     "metadata": {},
     "output_type": "display_data"
    },
    {
     "data": {
      "text/html": [
       "<ol class=list-inline>\n",
       "\t<li>'seq'</li>\n",
       "\t<li>'run_accession'</li>\n",
       "\t<li>'fullname'</li>\n",
       "\t<li>'supergroup'</li>\n",
       "\t<li>'division'</li>\n",
       "\t<li>'class'</li>\n",
       "\t<li>'order'</li>\n",
       "\t<li>'family'</li>\n",
       "\t<li>'genus'</li>\n",
       "\t<li>'species'</li>\n",
       "\t<li>'relabun'</li>\n",
       "\t<li>'sampleid'</li>\n",
       "</ol>\n"
      ],
      "text/latex": [
       "\\begin{enumerate*}\n",
       "\\item 'seq'\n",
       "\\item 'run\\_accession'\n",
       "\\item 'fullname'\n",
       "\\item 'supergroup'\n",
       "\\item 'division'\n",
       "\\item 'class'\n",
       "\\item 'order'\n",
       "\\item 'family'\n",
       "\\item 'genus'\n",
       "\\item 'species'\n",
       "\\item 'relabun'\n",
       "\\item 'sampleid'\n",
       "\\end{enumerate*}\n"
      ],
      "text/markdown": [
       "1. 'seq'\n",
       "2. 'run_accession'\n",
       "3. 'fullname'\n",
       "4. 'supergroup'\n",
       "5. 'division'\n",
       "6. 'class'\n",
       "7. 'order'\n",
       "8. 'family'\n",
       "9. 'genus'\n",
       "10. 'species'\n",
       "11. 'relabun'\n",
       "12. 'sampleid'\n",
       "\n",
       "\n"
      ],
      "text/plain": [
       " [1] \"seq\"           \"run_accession\" \"fullname\"      \"supergroup\"   \n",
       " [5] \"division\"      \"class\"         \"order\"         \"family\"       \n",
       " [9] \"genus\"         \"species\"       \"relabun\"       \"sampleid\"     "
      ]
     },
     "metadata": {},
     "output_type": "display_data"
    },
    {
     "data": {
      "text/html": [
       "<ol class=list-inline>\n",
       "\t<li>'mag'</li>\n",
       "\t<li>'supergroup'</li>\n",
       "\t<li>'division'</li>\n",
       "\t<li>'class'</li>\n",
       "\t<li>'order'</li>\n",
       "\t<li>'family'</li>\n",
       "\t<li>'genus'</li>\n",
       "\t<li>'species'</li>\n",
       "\t<li>'fullname'</li>\n",
       "</ol>\n"
      ],
      "text/latex": [
       "\\begin{enumerate*}\n",
       "\\item 'mag'\n",
       "\\item 'supergroup'\n",
       "\\item 'division'\n",
       "\\item 'class'\n",
       "\\item 'order'\n",
       "\\item 'family'\n",
       "\\item 'genus'\n",
       "\\item 'species'\n",
       "\\item 'fullname'\n",
       "\\end{enumerate*}\n"
      ],
      "text/markdown": [
       "1. 'mag'\n",
       "2. 'supergroup'\n",
       "3. 'division'\n",
       "4. 'class'\n",
       "5. 'order'\n",
       "6. 'family'\n",
       "7. 'genus'\n",
       "8. 'species'\n",
       "9. 'fullname'\n",
       "\n",
       "\n"
      ],
      "text/plain": [
       "[1] \"mag\"        \"supergroup\" \"division\"   \"class\"      \"order\"     \n",
       "[6] \"family\"     \"genus\"      \"species\"    \"fullname\"  "
      ]
     },
     "metadata": {},
     "output_type": "display_data"
    },
    {
     "data": {
      "text/html": [
       "<ol class=list-inline>\n",
       "\t<li>'mag'</li>\n",
       "\t<li>'run_accession'</li>\n",
       "\t<li>'relabun'</li>\n",
       "\t<li>'sampleid'</li>\n",
       "\t<li>'supergroup'</li>\n",
       "\t<li>'division'</li>\n",
       "\t<li>'class'</li>\n",
       "\t<li>'order'</li>\n",
       "\t<li>'family'</li>\n",
       "\t<li>'genus'</li>\n",
       "\t<li>'species'</li>\n",
       "\t<li>'fullname'</li>\n",
       "</ol>\n"
      ],
      "text/latex": [
       "\\begin{enumerate*}\n",
       "\\item 'mag'\n",
       "\\item 'run\\_accession'\n",
       "\\item 'relabun'\n",
       "\\item 'sampleid'\n",
       "\\item 'supergroup'\n",
       "\\item 'division'\n",
       "\\item 'class'\n",
       "\\item 'order'\n",
       "\\item 'family'\n",
       "\\item 'genus'\n",
       "\\item 'species'\n",
       "\\item 'fullname'\n",
       "\\end{enumerate*}\n"
      ],
      "text/markdown": [
       "1. 'mag'\n",
       "2. 'run_accession'\n",
       "3. 'relabun'\n",
       "4. 'sampleid'\n",
       "5. 'supergroup'\n",
       "6. 'division'\n",
       "7. 'class'\n",
       "8. 'order'\n",
       "9. 'family'\n",
       "10. 'genus'\n",
       "11. 'species'\n",
       "12. 'fullname'\n",
       "\n",
       "\n"
      ],
      "text/plain": [
       " [1] \"mag\"           \"run_accession\" \"relabun\"       \"sampleid\"     \n",
       " [5] \"supergroup\"    \"division\"      \"class\"         \"order\"        \n",
       " [9] \"family\"        \"genus\"         \"species\"       \"fullname\"     "
      ]
     },
     "metadata": {},
     "output_type": "display_data"
    }
   ],
   "source": [
    "# # Check all outputs\n",
    "# head(asv_tax)\n",
    "# head(asv_relab)\n",
    "# head(mag_tax)\n",
    "# head(mag_relab)\n",
    "colnames(asv_tax); colnames(asv_relab)\n",
    "colnames(mag_tax); colnames(mag_relab)"
   ]
  },
  {
   "cell_type": "code",
   "execution_count": 6,
   "metadata": {},
   "outputs": [],
   "source": [
    "# save(mag_relab, asv_relab, file = \"inputdfs.RData\")\n",
    "# load(\"inputdfs.RData\")"
   ]
  },
  {
   "cell_type": "markdown",
   "metadata": {},
   "source": [
    "## Base information on the MAG- and ASV-derived data"
   ]
  },
  {
   "cell_type": "code",
   "execution_count": 67,
   "metadata": {},
   "outputs": [
    {
     "name": "stdout",
     "output_type": "stream",
     "text": [
      "there are 3554 total MAGs, which cover 298 samples.\n",
      "there are 107868 total ASVs, which cover 299 samples.\n"
     ]
    },
    {
     "name": "stderr",
     "output_type": "stream",
     "text": [
      "Joining, by = \"sampleid\"\n"
     ]
    },
    {
     "name": "stdout",
     "output_type": "stream",
     "text": [
      "297 samples overlap betwen MAG- and ASV-derived data\n"
     ]
    },
    {
     "data": {
      "text/html": [
       "<table>\n",
       "<thead><tr><th scope=col>supergroup</th><th scope=col>division</th><th scope=col>class</th><th scope=col>totalMAGs</th><th scope=col>totaluniqMAGs</th></tr></thead>\n",
       "<tbody>\n",
       "\t<tr><td>Archaeplastida    </td><td>Chlorophyta       </td><td>Mamiellophyceae   </td><td>  45667           </td><td>  58              </td></tr>\n",
       "\t<tr><td>Archaeplastida    </td><td>Chlorophyta       </td><td>Palmophyllophyceae</td><td>   5579           </td><td>   7              </td></tr>\n",
       "\t<tr><td>Archaeplastida    </td><td>Chlorophyta       </td><td>Chloropicophyceae </td><td>  35771           </td><td>  45              </td></tr>\n",
       "\t<tr><td>Archaeplastida    </td><td>Chlorophyta       </td><td>-                 </td><td>  23408           </td><td>  29              </td></tr>\n",
       "\t<tr><td>Archaeplastida    </td><td>Chlorophyta       </td><td>Prasino-Clade-V   </td><td>   3190           </td><td>   4              </td></tr>\n",
       "\t<tr><td>Hacrobia          </td><td>Cryptophyta       </td><td>Cryptophyceae     </td><td>   5730           </td><td>   7              </td></tr>\n",
       "\t<tr><td>Hacrobia          </td><td>Haptophyta        </td><td>Prymnesiophyceae  </td><td>  14394           </td><td>  18              </td></tr>\n",
       "\t<tr><td>Opisthokonta      </td><td>Fungi             </td><td>Ascomycota        </td><td>    811           </td><td>   1              </td></tr>\n",
       "\t<tr><td>Stramenopiles     </td><td>-                 </td><td>-                 </td><td>  23408           </td><td>  29              </td></tr>\n",
       "\t<tr><td>Stramenopiles     </td><td>Ochrophyta        </td><td>Bacillariophyta   </td><td>  15978           </td><td>  20              </td></tr>\n",
       "\t<tr><td>Stramenopiles     </td><td>Ochrophyta        </td><td>Chrysophyceae     </td><td>   6488           </td><td>   8              </td></tr>\n",
       "\t<tr><td>Stramenopiles     </td><td>Ochrophyta        </td><td>Dictyochophyceae  </td><td>   3241           </td><td>   4              </td></tr>\n",
       "\t<tr><td>Stramenopiles     </td><td>Ochrophyta        </td><td>Bolidophyceae     </td><td>    810           </td><td>   1              </td></tr>\n",
       "\t<tr><td>Stramenopiles     </td><td>Ochrophyta        </td><td>Pelagophyceae     </td><td>   1591           </td><td>   2              </td></tr>\n",
       "\t<tr><td>Stramenopiles     </td><td>Ochrophyta        </td><td>-                 </td><td>  23408           </td><td>  29              </td></tr>\n",
       "\t<tr><td>NA                </td><td>NA                </td><td>NA                </td><td>2207883           </td><td>3350              </td></tr>\n",
       "</tbody>\n",
       "</table>\n"
      ],
      "text/latex": [
       "\\begin{tabular}{r|lllll}\n",
       " supergroup & division & class & totalMAGs & totaluniqMAGs\\\\\n",
       "\\hline\n",
       "\t Archaeplastida     & Chlorophyta        & Mamiellophyceae    &   45667            &   58              \\\\\n",
       "\t Archaeplastida     & Chlorophyta        & Palmophyllophyceae &    5579            &    7              \\\\\n",
       "\t Archaeplastida     & Chlorophyta        & Chloropicophyceae  &   35771            &   45              \\\\\n",
       "\t Archaeplastida     & Chlorophyta        & -                  &   23408            &   29              \\\\\n",
       "\t Archaeplastida     & Chlorophyta        & Prasino-Clade-V    &    3190            &    4              \\\\\n",
       "\t Hacrobia           & Cryptophyta        & Cryptophyceae      &    5730            &    7              \\\\\n",
       "\t Hacrobia           & Haptophyta         & Prymnesiophyceae   &   14394            &   18              \\\\\n",
       "\t Opisthokonta       & Fungi              & Ascomycota         &     811            &    1              \\\\\n",
       "\t Stramenopiles      & -                  & -                  &   23408            &   29              \\\\\n",
       "\t Stramenopiles      & Ochrophyta         & Bacillariophyta    &   15978            &   20              \\\\\n",
       "\t Stramenopiles      & Ochrophyta         & Chrysophyceae      &    6488            &    8              \\\\\n",
       "\t Stramenopiles      & Ochrophyta         & Dictyochophyceae   &    3241            &    4              \\\\\n",
       "\t Stramenopiles      & Ochrophyta         & Bolidophyceae      &     810            &    1              \\\\\n",
       "\t Stramenopiles      & Ochrophyta         & Pelagophyceae      &    1591            &    2              \\\\\n",
       "\t Stramenopiles      & Ochrophyta         & -                  &   23408            &   29              \\\\\n",
       "\t NA                 & NA                 & NA                 & 2207883            & 3350              \\\\\n",
       "\\end{tabular}\n"
      ],
      "text/markdown": [
       "\n",
       "| supergroup | division | class | totalMAGs | totaluniqMAGs |\n",
       "|---|---|---|---|---|\n",
       "| Archaeplastida     | Chlorophyta        | Mamiellophyceae    |   45667            |   58               |\n",
       "| Archaeplastida     | Chlorophyta        | Palmophyllophyceae |    5579            |    7               |\n",
       "| Archaeplastida     | Chlorophyta        | Chloropicophyceae  |   35771            |   45               |\n",
       "| Archaeplastida     | Chlorophyta        | -                  |   23408            |   29               |\n",
       "| Archaeplastida     | Chlorophyta        | Prasino-Clade-V    |    3190            |    4               |\n",
       "| Hacrobia           | Cryptophyta        | Cryptophyceae      |    5730            |    7               |\n",
       "| Hacrobia           | Haptophyta         | Prymnesiophyceae   |   14394            |   18               |\n",
       "| Opisthokonta       | Fungi              | Ascomycota         |     811            |    1               |\n",
       "| Stramenopiles      | -                  | -                  |   23408            |   29               |\n",
       "| Stramenopiles      | Ochrophyta         | Bacillariophyta    |   15978            |   20               |\n",
       "| Stramenopiles      | Ochrophyta         | Chrysophyceae      |    6488            |    8               |\n",
       "| Stramenopiles      | Ochrophyta         | Dictyochophyceae   |    3241            |    4               |\n",
       "| Stramenopiles      | Ochrophyta         | Bolidophyceae      |     810            |    1               |\n",
       "| Stramenopiles      | Ochrophyta         | Pelagophyceae      |    1591            |    2               |\n",
       "| Stramenopiles      | Ochrophyta         | -                  |   23408            |   29               |\n",
       "| NA                 | NA                 | NA                 | 2207883            | 3350               |\n",
       "\n"
      ],
      "text/plain": [
       "   supergroup     division    class              totalMAGs totaluniqMAGs\n",
       "1  Archaeplastida Chlorophyta Mamiellophyceae      45667     58         \n",
       "2  Archaeplastida Chlorophyta Palmophyllophyceae    5579      7         \n",
       "3  Archaeplastida Chlorophyta Chloropicophyceae    35771     45         \n",
       "4  Archaeplastida Chlorophyta -                    23408     29         \n",
       "5  Archaeplastida Chlorophyta Prasino-Clade-V       3190      4         \n",
       "6  Hacrobia       Cryptophyta Cryptophyceae         5730      7         \n",
       "7  Hacrobia       Haptophyta  Prymnesiophyceae     14394     18         \n",
       "8  Opisthokonta   Fungi       Ascomycota             811      1         \n",
       "9  Stramenopiles  -           -                    23408     29         \n",
       "10 Stramenopiles  Ochrophyta  Bacillariophyta      15978     20         \n",
       "11 Stramenopiles  Ochrophyta  Chrysophyceae         6488      8         \n",
       "12 Stramenopiles  Ochrophyta  Dictyochophyceae      3241      4         \n",
       "13 Stramenopiles  Ochrophyta  Bolidophyceae          810      1         \n",
       "14 Stramenopiles  Ochrophyta  Pelagophyceae         1591      2         \n",
       "15 Stramenopiles  Ochrophyta  -                    23408     29         \n",
       "16 NA             NA          NA                 2207883   3350         "
      ]
     },
     "metadata": {},
     "output_type": "display_data"
    }
   ],
   "source": [
    "# Total MAGs and ASVs\n",
    "writeLines(paste(\"there are\", length(unique(mag_relab$mag)), \"total MAGs, which cover\", length(unique(mag_relab$sampleid)), \"samples.\"))\n",
    "writeLines(paste(\"there are\", length(unique(asv_relab$seq)), \"total ASVs, which cover\",length(unique(asv_relab$sampleid)), \"samples.\"))\n",
    "\n",
    "# Overlap\n",
    "writeLines(paste(dim(mag_relab %>% \n",
    "    select(sampleid) %>% \n",
    "    distinct()  %>% \n",
    "    inner_join(select(asv_relab, sampleid)) %>% \n",
    "    filter(!is.na(sampleid)) %>% \n",
    "    distinct())[1], \"samples overlap betwen MAG- and ASV-derived data\"))\n",
    "\n",
    "# Summary of upper (Taxonomic) level IDs\n",
    "mag_relab %>% select(supergroup, division, class, mag) %>% \n",
    "    group_by(class) %>% mutate(totalMAGs = n(), totaluniqMAGs = n_distinct(mag)) %>% \n",
    "    select(-mag) %>% distinct() %>% arrange(supergroup, division)"
   ]
  },
  {
   "cell_type": "markdown",
   "metadata": {},
   "source": [
    "Based on the above supergroup:class groupings, go through each class to generate best fit. Find specific examples of plots that demonstrate proof of concept, and examples where this approach provides an additional avenue to assign some level of taxonomic resolution."
   ]
  },
  {
   "cell_type": "markdown",
   "metadata": {},
   "source": [
    "### Map ASV- derived results to MAG results\n",
    "Below function will map all ASVs to MAGs. Function will retain only samples that appear in both ASV and MAG data. Mapping relies on matching the sample ID (Tara station #, size fraction, depth) and taxonomic grouping. Then will subset so that the number of ASV-MAG occurrences is > freq. Then, function performs linear regression, keeps positive slopes, and subsets the highest r.squared value for a MAG-ASV match. This is all written to output filename."
   ]
  },
  {
   "cell_type": "code",
   "execution_count": 49,
   "metadata": {},
   "outputs": [
    {
     "data": {
      "text/html": [
       "<ol class=list-inline>\n",
       "\t<li>'mag'</li>\n",
       "\t<li>'run_accession'</li>\n",
       "\t<li>'relabun'</li>\n",
       "\t<li>'sampleid'</li>\n",
       "\t<li>'supergroup'</li>\n",
       "\t<li>'division'</li>\n",
       "\t<li>'class'</li>\n",
       "\t<li>'order'</li>\n",
       "\t<li>'family'</li>\n",
       "\t<li>'genus'</li>\n",
       "\t<li>'species'</li>\n",
       "\t<li>'fullname'</li>\n",
       "</ol>\n"
      ],
      "text/latex": [
       "\\begin{enumerate*}\n",
       "\\item 'mag'\n",
       "\\item 'run\\_accession'\n",
       "\\item 'relabun'\n",
       "\\item 'sampleid'\n",
       "\\item 'supergroup'\n",
       "\\item 'division'\n",
       "\\item 'class'\n",
       "\\item 'order'\n",
       "\\item 'family'\n",
       "\\item 'genus'\n",
       "\\item 'species'\n",
       "\\item 'fullname'\n",
       "\\end{enumerate*}\n"
      ],
      "text/markdown": [
       "1. 'mag'\n",
       "2. 'run_accession'\n",
       "3. 'relabun'\n",
       "4. 'sampleid'\n",
       "5. 'supergroup'\n",
       "6. 'division'\n",
       "7. 'class'\n",
       "8. 'order'\n",
       "9. 'family'\n",
       "10. 'genus'\n",
       "11. 'species'\n",
       "12. 'fullname'\n",
       "\n",
       "\n"
      ],
      "text/plain": [
       " [1] \"mag\"           \"run_accession\" \"relabun\"       \"sampleid\"     \n",
       " [5] \"supergroup\"    \"division\"      \"class\"         \"order\"        \n",
       " [9] \"family\"        \"genus\"         \"species\"       \"fullname\"     "
      ]
     },
     "metadata": {},
     "output_type": "display_data"
    }
   ],
   "source": [
    "# Function selects best hit (based on occurrence (user defined) and r-squared value from lm fit). \n",
    "## Output is a table of best MAG and ASV match (based on taxa and sample) with corresponding r-squared value\n",
    "### and taxonomic identities of both MAG and ASV.\n",
    "map_ASVtoMAG_runlm <- function(mag_df, asv_df, level, freq, filename){\n",
    "    level <- enquo(level)\n",
    "    out <- mag_df %>% \n",
    "    # Generate column in MAG data that unites taxa to user defined level\n",
    "    unite(TAXA, supergroup:!!level, remove = TRUE, sep =\";\") %>% \n",
    "    # Repeat action within ASV data (same tax level), and match output from ASV to MAG data\n",
    "    ## columns that are repeated from each data will be affixed with .MAG or .ASV\n",
    "    left_join(unite(asv_df, TAXA, supergroup:!!level, remove = TRUE, sep =\";\"), \n",
    "              by = c(\"TAXA\"=\"TAXA\", \"sampleid\" = \"sampleid\"), suffix = c(\".MAG\", \".ASV\")) %>%\n",
    "    # Remove samples without an ASV    \n",
    "    filter(!is.na(run_accession.ASV) & !is.na(sampleid)) %>% \n",
    "    # Group by unique mag and seq identities\n",
    "    group_by(mag, seq) %>% \n",
    "    mutate(OCCUR = n()) %>% # Count occurences of matching for each mag-seq pair (number of Tara ocean samples that have both an ASV and MAG that we can compare)\n",
    "    filter(OCCUR > freq) %>% #ASV-MAG incidence must occur more than user-defined frequency\n",
    "    # Run linear regression\n",
    "    do({lm.fit = lm(relabun.MAG ~ relabun.ASV, data = .)\n",
    "        data.frame(tidy(lm.fit), glance(lm.fit))}) %>% \n",
    "    select(mag, seq, r.squared, p.value, term, estimate) %>% \n",
    "    spread(term, estimate) %>% \n",
    "    select(everything(), slope = relabun.ASV) %>% \n",
    "    # Remove negative slope\n",
    "    filter(slope > 0) %>% \n",
    "    # Add in original mag-desigated taxa\n",
    "    right_join(select(mag_df, mag, fullname) %>% distinct(), by = c(\"mag\" = \"mag\")) %>% \n",
    "    # Add in original asv-designated taxa information\n",
    "    left_join(select(asv_df, seq, fullname) %>% distinct(), by = c(\"seq\" = \"seq\"), suffix = c(\".MAG\", \".ASV\")) %>% \n",
    "    data.frame\n",
    "    out2 <- out %>% \n",
    "    # For each mag, select highest r.squared value\n",
    "    group_by(mag) %>%\n",
    "    arrange(desc(r.squared))\n",
    "    write_delim(out2, path = filename, delim = \"\\t\")\n",
    "    tmp_stats <- out %>% \n",
    "    select(mag, seq, r.squared, p.value) %>% \n",
    "    distinct()\n",
    "    # Report:\n",
    "    writeLines(paste(length(unique(out2$mag)), \" number of MAGs in output text file\"))\n",
    "    a <- range(tmp_stats$r.squared)\n",
    "    writeLines(paste(round(a[1], 5), \" min of r^2 values\"))\n",
    "    writeLines(paste(round(a[2], 3), \" max of r^2 values\"))\n",
    "    writeLines(paste(length(unique(tmp_stats$mag)),\" total MAGs\"))\n",
    "    writeLines(paste(length(unique(tmp_stats$seq)),\" total ASVs\"))\n",
    "    writeLines(paste(dim(tmp_stats)[1],\" total comparisons that will be plot\"))\n",
    "    return(out)\n",
    "    }\n",
    "# map_ASVtoMAG_runlm(mag_relab, asv_relab, class, 50, \"bestfit-27-07-2020.txt\")\n",
    "colnames(mag_relab)"
   ]
  },
  {
   "cell_type": "code",
   "execution_count": 5,
   "metadata": {},
   "outputs": [
    {
     "data": {
      "text/html": [
       "<ol class=list-inline>\n",
       "\t<li>14394</li>\n",
       "\t<li>12</li>\n",
       "</ol>\n"
      ],
      "text/latex": [
       "\\begin{enumerate*}\n",
       "\\item 14394\n",
       "\\item 12\n",
       "\\end{enumerate*}\n"
      ],
      "text/markdown": [
       "1. 14394\n",
       "2. 12\n",
       "\n",
       "\n"
      ],
      "text/plain": [
       "[1] 14394    12"
      ]
     },
     "metadata": {},
     "output_type": "display_data"
    },
    {
     "data": {
      "text/html": [
       "<ol class=list-inline>\n",
       "\t<li>14381</li>\n",
       "\t<li>12</li>\n",
       "</ol>\n"
      ],
      "text/latex": [
       "\\begin{enumerate*}\n",
       "\\item 14381\n",
       "\\item 12\n",
       "\\end{enumerate*}\n"
      ],
      "text/markdown": [
       "1. 14381\n",
       "2. 12\n",
       "\n",
       "\n"
      ],
      "text/plain": [
       "[1] 14381    12"
      ]
     },
     "metadata": {},
     "output_type": "display_data"
    }
   ],
   "source": [
    "# Subset all Prymnesiophyceae \n",
    "mag_prym <- mag_relab %>% filter(class == \"Prymnesiophyceae\") %>% data.frame\n",
    "asv_prym <- asv_relab %>% filter(class == \"Prymnesiophyceae\") %>% data.frame\n",
    "dim(mag_prym); dim(asv_prym)"
   ]
  },
  {
   "cell_type": "code",
   "execution_count": null,
   "metadata": {},
   "outputs": [],
   "source": [
    "# Set up and subset"
   ]
  },
  {
   "cell_type": "code",
   "execution_count": null,
   "metadata": {},
   "outputs": [],
   "source": [
    "# NEST\n",
    "# # Perform linear regression - select r^2 value to filter by\n",
    "# find_bestfit_r2 <- function(df, r){\n",
    "#     df %>% \n",
    "#     nest(-mag, -seq) %>% \n",
    "#     mutate(lm_fit = map(data, ~ lm(relabun.MAG ~ relabun.ASV, data = .)),\n",
    "#           results = map(lm_fit, glance)) %>% \n",
    "#     unnest(results) %>% \n",
    "#     select(mag, seq, r.squared, p.value) %>% \n",
    "#     right_join(df, by = c(\"mag\"=\"mag\", \"seq\"=\"seq\"))  %>% \n",
    "#     filter(r.squared > r) %>% \n",
    "#     data.frame\n",
    "#     }"
   ]
  },
  {
   "cell_type": "code",
   "execution_count": 50,
   "metadata": {},
   "outputs": [],
   "source": [
    "# # Subsample data to show use\n",
    "\n",
    "# # two <- c(\"Ostreococcus\", \"Micromonas\")\n",
    "# # mag_sub <- filter(mag_relab, genus %in% two) %>% data.frame\n",
    "# # asv_sub <- filter(asv_relab, genus %in% two) %>% data.frame\n",
    "# # dim(mag_sub); dim(asv_sub)\n",
    "\n",
    "# mag_sub <- filter(mag_relab, class == \"Mamiellophyceae\") %>% data.frame\n",
    "# asv_sub <- filter(asv_relab, class == \"Mamiellophyceae\") %>% data.frame\n",
    "# dim(mag_sub); dim(asv_sub)"
   ]
  },
  {
   "cell_type": "code",
   "execution_count": 51,
   "metadata": {},
   "outputs": [],
   "source": [
    "# mamiell_fam <- map_ASVtoMAG_runlm(mag_sub, asv_sub, family, 50, \"Mamiellophyceae-bestfit.txt\")\n",
    "\n",
    "# tmp <- read.delim(\"Mamiellophyceae-bestfit.txt\")#; head(tmp[1:2,]); dim(tmp)\n",
    "# tmp %>% select(starts_with(\"fullname\")) %>% distinct()"
   ]
  },
  {
   "cell_type": "code",
   "execution_count": 52,
   "metadata": {},
   "outputs": [
    {
     "name": "stdout",
     "output_type": "stream",
     "text": [
      "58  number of MAGs in output text file\n",
      "4e-05  min of r^2 values\n",
      "0.976  max of r^2 values\n",
      "58  total MAGs\n",
      "9  total ASVs\n",
      "160  total comparisons that will be plot\n"
     ]
    },
    {
     "data": {
      "text/html": [
       "<table>\n",
       "<thead><tr><th scope=col>mag</th><th scope=col>seq</th><th scope=col>r.squared</th><th scope=col>p.value</th><th scope=col>X.Intercept.</th><th scope=col>slope</th><th scope=col>fullname.MAG</th><th scope=col>fullname.ASV</th></tr></thead>\n",
       "<tbody>\n",
       "\t<tr><td>IO-all-DCM-0-8-5-00_bin-120                                                                                                         </td><td>GTCGCTCCTACCGATTGAATGGTCCGGTGAAGCGCTCGGACCGCGGCCTCTTGACGGGTCTCCGTCGATTGGCTGTGGGAAGTTCGTTAAACCTTATCATTTAGAGGAAGGAGAAGTCGTAACAAGGTTTCC</td><td>0.4913383                                                                                                                           </td><td>1.144886e-108                                                                                                                       </td><td>NA                                                                                                                                  </td><td>0.43311587                                                                                                                          </td><td>Archaeplastida;Chlorophyta;Mamiellophyceae;Mamiellales;Mamiellaceae;Micromonas;Micromonas sp.                                       </td><td>Archaeplastida;Chlorophyta;Mamiellophyceae;Mamiellales;Mamiellaceae;Micromonas;Micromonas commoda_A1                                </td></tr>\n",
       "\t<tr><td>IO-all-DCM-0-8-5-00_bin-120                                                                                                         </td><td>GTCGCTCCTACCGATTGAATGGTCCGGTGAAGCGTTCGGACCGCTTCCTTTGGACGGGCAACCGTCTGTTGGTCGTGGGAAGTTCGTTAAACCTTATCATTTAGAGGAAGGAGAAGTCGTAACAAGGTTTCC</td><td>0.2365882                                                                                                                           </td><td> 3.793840e-43                                                                                                                       </td><td>NA                                                                                                                                  </td><td>0.03200598                                                                                                                          </td><td>Archaeplastida;Chlorophyta;Mamiellophyceae;Mamiellales;Mamiellaceae;Micromonas;Micromonas sp.                                       </td><td>Archaeplastida;Chlorophyta;Mamiellophyceae;Mamiellales;Mamiellaceae;Micromonas;Micromonas bravo_B2                                  </td></tr>\n",
       "</tbody>\n",
       "</table>\n"
      ],
      "text/latex": [
       "\\begin{tabular}{r|llllllll}\n",
       " mag & seq & r.squared & p.value & X.Intercept. & slope & fullname.MAG & fullname.ASV\\\\\n",
       "\\hline\n",
       "\t IO-all-DCM-0-8-5-00\\_bin-120                                                                                                        & GTCGCTCCTACCGATTGAATGGTCCGGTGAAGCGCTCGGACCGCGGCCTCTTGACGGGTCTCCGTCGATTGGCTGTGGGAAGTTCGTTAAACCTTATCATTTAGAGGAAGGAGAAGTCGTAACAAGGTTTCC & 0.4913383                                                                                                                            & 1.144886e-108                                                                                                                        & NA                                                                                                                                   & 0.43311587                                                                                                                           & Archaeplastida;Chlorophyta;Mamiellophyceae;Mamiellales;Mamiellaceae;Micromonas;Micromonas sp.                                        & Archaeplastida;Chlorophyta;Mamiellophyceae;Mamiellales;Mamiellaceae;Micromonas;Micromonas commoda\\_A1                              \\\\\n",
       "\t IO-all-DCM-0-8-5-00\\_bin-120                                                                                                        & GTCGCTCCTACCGATTGAATGGTCCGGTGAAGCGTTCGGACCGCTTCCTTTGGACGGGCAACCGTCTGTTGGTCGTGGGAAGTTCGTTAAACCTTATCATTTAGAGGAAGGAGAAGTCGTAACAAGGTTTCC & 0.2365882                                                                                                                            &  3.793840e-43                                                                                                                        & NA                                                                                                                                   & 0.03200598                                                                                                                           & Archaeplastida;Chlorophyta;Mamiellophyceae;Mamiellales;Mamiellaceae;Micromonas;Micromonas sp.                                        & Archaeplastida;Chlorophyta;Mamiellophyceae;Mamiellales;Mamiellaceae;Micromonas;Micromonas bravo\\_B2                                \\\\\n",
       "\\end{tabular}\n"
      ],
      "text/markdown": [
       "\n",
       "| mag | seq | r.squared | p.value | X.Intercept. | slope | fullname.MAG | fullname.ASV |\n",
       "|---|---|---|---|---|---|---|---|\n",
       "| IO-all-DCM-0-8-5-00_bin-120                                                                                                          | GTCGCTCCTACCGATTGAATGGTCCGGTGAAGCGCTCGGACCGCGGCCTCTTGACGGGTCTCCGTCGATTGGCTGTGGGAAGTTCGTTAAACCTTATCATTTAGAGGAAGGAGAAGTCGTAACAAGGTTTCC | 0.4913383                                                                                                                            | 1.144886e-108                                                                                                                        | NA                                                                                                                                   | 0.43311587                                                                                                                           | Archaeplastida;Chlorophyta;Mamiellophyceae;Mamiellales;Mamiellaceae;Micromonas;Micromonas sp.                                        | Archaeplastida;Chlorophyta;Mamiellophyceae;Mamiellales;Mamiellaceae;Micromonas;Micromonas commoda_A1                                 |\n",
       "| IO-all-DCM-0-8-5-00_bin-120                                                                                                          | GTCGCTCCTACCGATTGAATGGTCCGGTGAAGCGTTCGGACCGCTTCCTTTGGACGGGCAACCGTCTGTTGGTCGTGGGAAGTTCGTTAAACCTTATCATTTAGAGGAAGGAGAAGTCGTAACAAGGTTTCC | 0.2365882                                                                                                                            |  3.793840e-43                                                                                                                        | NA                                                                                                                                   | 0.03200598                                                                                                                           | Archaeplastida;Chlorophyta;Mamiellophyceae;Mamiellales;Mamiellaceae;Micromonas;Micromonas sp.                                        | Archaeplastida;Chlorophyta;Mamiellophyceae;Mamiellales;Mamiellaceae;Micromonas;Micromonas bravo_B2                                   |\n",
       "\n"
      ],
      "text/plain": [
       "  mag                        \n",
       "1 IO-all-DCM-0-8-5-00_bin-120\n",
       "2 IO-all-DCM-0-8-5-00_bin-120\n",
       "  seq                                                                                                                                 \n",
       "1 GTCGCTCCTACCGATTGAATGGTCCGGTGAAGCGCTCGGACCGCGGCCTCTTGACGGGTCTCCGTCGATTGGCTGTGGGAAGTTCGTTAAACCTTATCATTTAGAGGAAGGAGAAGTCGTAACAAGGTTTCC\n",
       "2 GTCGCTCCTACCGATTGAATGGTCCGGTGAAGCGTTCGGACCGCTTCCTTTGGACGGGCAACCGTCTGTTGGTCGTGGGAAGTTCGTTAAACCTTATCATTTAGAGGAAGGAGAAGTCGTAACAAGGTTTCC\n",
       "  r.squared p.value       X.Intercept. slope     \n",
       "1 0.4913383 1.144886e-108 NA           0.43311587\n",
       "2 0.2365882  3.793840e-43 NA           0.03200598\n",
       "  fullname.MAG                                                                                 \n",
       "1 Archaeplastida;Chlorophyta;Mamiellophyceae;Mamiellales;Mamiellaceae;Micromonas;Micromonas sp.\n",
       "2 Archaeplastida;Chlorophyta;Mamiellophyceae;Mamiellales;Mamiellaceae;Micromonas;Micromonas sp.\n",
       "  fullname.ASV                                                                                        \n",
       "1 Archaeplastida;Chlorophyta;Mamiellophyceae;Mamiellales;Mamiellaceae;Micromonas;Micromonas commoda_A1\n",
       "2 Archaeplastida;Chlorophyta;Mamiellophyceae;Mamiellales;Mamiellaceae;Micromonas;Micromonas bravo_B2  "
      ]
     },
     "metadata": {},
     "output_type": "display_data"
    }
   ],
   "source": [
    "# Step 1 - run full command, output dataframe for use here to plot and txt file for best fit.\n",
    "mamiell_fam <- map_ASVtoMAG_runlm(mag_sub, asv_sub, family, 50, \"Mamiellophyceae-bestfit.txt\")\n",
    "head(mamiell_fam[1:2,])"
   ]
  },
  {
   "cell_type": "code",
   "execution_count": 54,
   "metadata": {},
   "outputs": [
    {
     "data": {
      "text/html": [
       "<table>\n",
       "<thead><tr><th scope=col>mag</th><th scope=col>run_accession.MAG</th><th scope=col>relabun.MAG</th><th scope=col>sampleid</th><th scope=col>TAXA</th><th scope=col>genus.MAG</th><th scope=col>species.MAG</th><th scope=col>fullname.MAG</th><th scope=col>seq</th><th scope=col>run_accession.ASV</th><th scope=col>fullname.ASV</th><th scope=col>genus.ASV</th><th scope=col>species.ASV</th><th scope=col>relabun.ASV</th></tr></thead>\n",
       "<tbody>\n",
       "\t<tr><td>IO-all-DCM-0-8-5-00_bin-120                                                                                                         </td><td>ERR1726829                                                                                                                          </td><td>0.02650766                                                                                                                          </td><td>TARA_066_DCM_0.8-5                                                                                                                  </td><td>Archaeplastida;Chlorophyta;Mamiellophyceae;Mamiellales;Mamiellaceae                                                                 </td><td>Micromonas                                                                                                                          </td><td>Micromonas sp.                                                                                                                      </td><td>Archaeplastida;Chlorophyta;Mamiellophyceae;Mamiellales;Mamiellaceae;Micromonas;Micromonas sp.                                       </td><td>GTCGCTCCTACCGATTGAATGGTCCGGTGAAGCGCTCGGACCGCGGCCTCTTGACGGGTCTCCGTCGATTGGCTGTGGGAAGTTCGTTAAACCTTATCATTTAGAGGAAGGAGAAGTCGTAACAAGGTTTCC</td><td>ERR562660                                                                                                                           </td><td>Archaeplastida;Chlorophyta;Mamiellophyceae;Mamiellales;Mamiellaceae;Micromonas;Micromonas commoda_A1                                </td><td>Micromonas                                                                                                                          </td><td>Micromonas commoda_A1                                                                                                               </td><td>0.01139945                                                                                                                          </td></tr>\n",
       "\t<tr><td>IO-all-DCM-0-8-5-00_bin-120                                                                                                         </td><td>ERR1726829                                                                                                                          </td><td>0.02650766                                                                                                                          </td><td>TARA_066_DCM_0.8-5                                                                                                                  </td><td>Archaeplastida;Chlorophyta;Mamiellophyceae;Mamiellales;Mamiellaceae                                                                 </td><td>Micromonas                                                                                                                          </td><td>Micromonas sp.                                                                                                                      </td><td>Archaeplastida;Chlorophyta;Mamiellophyceae;Mamiellales;Mamiellaceae;Micromonas;Micromonas sp.                                       </td><td>GTCGCTCCTACCGATTGAATGGTCCGGTGAAGCGCTCGGACCGCGGCCTCTTGACGGGTCTCCGTCGATTGGCTGTGGGAAGTTCGTTAAACCTTATCATTTAGAGGAAGGAGAAGTCGTAACAAGGTTTCC</td><td>ERR562660                                                                                                                           </td><td>Archaeplastida;Chlorophyta;Mamiellophyceae;Mamiellales;Mamiellaceae;Micromonas;Micromonas commoda_A1                                </td><td>Micromonas                                                                                                                          </td><td>Micromonas commoda_A1                                                                                                               </td><td>0.01139945                                                                                                                          </td></tr>\n",
       "</tbody>\n",
       "</table>\n"
      ],
      "text/latex": [
       "\\begin{tabular}{r|llllllllllllll}\n",
       " mag & run\\_accession.MAG & relabun.MAG & sampleid & TAXA & genus.MAG & species.MAG & fullname.MAG & seq & run\\_accession.ASV & fullname.ASV & genus.ASV & species.ASV & relabun.ASV\\\\\n",
       "\\hline\n",
       "\t IO-all-DCM-0-8-5-00\\_bin-120                                                                                                        & ERR1726829                                                                                                                           & 0.02650766                                                                                                                           & TARA\\_066\\_DCM\\_0.8-5                                                                                                             & Archaeplastida;Chlorophyta;Mamiellophyceae;Mamiellales;Mamiellaceae                                                                  & Micromonas                                                                                                                           & Micromonas sp.                                                                                                                       & Archaeplastida;Chlorophyta;Mamiellophyceae;Mamiellales;Mamiellaceae;Micromonas;Micromonas sp.                                        & GTCGCTCCTACCGATTGAATGGTCCGGTGAAGCGCTCGGACCGCGGCCTCTTGACGGGTCTCCGTCGATTGGCTGTGGGAAGTTCGTTAAACCTTATCATTTAGAGGAAGGAGAAGTCGTAACAAGGTTTCC & ERR562660                                                                                                                            & Archaeplastida;Chlorophyta;Mamiellophyceae;Mamiellales;Mamiellaceae;Micromonas;Micromonas commoda\\_A1                               & Micromonas                                                                                                                           & Micromonas commoda\\_A1                                                                                                              & 0.01139945                                                                                                                          \\\\\n",
       "\t IO-all-DCM-0-8-5-00\\_bin-120                                                                                                        & ERR1726829                                                                                                                           & 0.02650766                                                                                                                           & TARA\\_066\\_DCM\\_0.8-5                                                                                                             & Archaeplastida;Chlorophyta;Mamiellophyceae;Mamiellales;Mamiellaceae                                                                  & Micromonas                                                                                                                           & Micromonas sp.                                                                                                                       & Archaeplastida;Chlorophyta;Mamiellophyceae;Mamiellales;Mamiellaceae;Micromonas;Micromonas sp.                                        & GTCGCTCCTACCGATTGAATGGTCCGGTGAAGCGCTCGGACCGCGGCCTCTTGACGGGTCTCCGTCGATTGGCTGTGGGAAGTTCGTTAAACCTTATCATTTAGAGGAAGGAGAAGTCGTAACAAGGTTTCC & ERR562660                                                                                                                            & Archaeplastida;Chlorophyta;Mamiellophyceae;Mamiellales;Mamiellaceae;Micromonas;Micromonas commoda\\_A1                               & Micromonas                                                                                                                           & Micromonas commoda\\_A1                                                                                                              & 0.01139945                                                                                                                          \\\\\n",
       "\\end{tabular}\n"
      ],
      "text/markdown": [
       "\n",
       "| mag | run_accession.MAG | relabun.MAG | sampleid | TAXA | genus.MAG | species.MAG | fullname.MAG | seq | run_accession.ASV | fullname.ASV | genus.ASV | species.ASV | relabun.ASV |\n",
       "|---|---|---|---|---|---|---|---|---|---|---|---|---|---|\n",
       "| IO-all-DCM-0-8-5-00_bin-120                                                                                                          | ERR1726829                                                                                                                           | 0.02650766                                                                                                                           | TARA_066_DCM_0.8-5                                                                                                                   | Archaeplastida;Chlorophyta;Mamiellophyceae;Mamiellales;Mamiellaceae                                                                  | Micromonas                                                                                                                           | Micromonas sp.                                                                                                                       | Archaeplastida;Chlorophyta;Mamiellophyceae;Mamiellales;Mamiellaceae;Micromonas;Micromonas sp.                                        | GTCGCTCCTACCGATTGAATGGTCCGGTGAAGCGCTCGGACCGCGGCCTCTTGACGGGTCTCCGTCGATTGGCTGTGGGAAGTTCGTTAAACCTTATCATTTAGAGGAAGGAGAAGTCGTAACAAGGTTTCC | ERR562660                                                                                                                            | Archaeplastida;Chlorophyta;Mamiellophyceae;Mamiellales;Mamiellaceae;Micromonas;Micromonas commoda_A1                                 | Micromonas                                                                                                                           | Micromonas commoda_A1                                                                                                                | 0.01139945                                                                                                                           |\n",
       "| IO-all-DCM-0-8-5-00_bin-120                                                                                                          | ERR1726829                                                                                                                           | 0.02650766                                                                                                                           | TARA_066_DCM_0.8-5                                                                                                                   | Archaeplastida;Chlorophyta;Mamiellophyceae;Mamiellales;Mamiellaceae                                                                  | Micromonas                                                                                                                           | Micromonas sp.                                                                                                                       | Archaeplastida;Chlorophyta;Mamiellophyceae;Mamiellales;Mamiellaceae;Micromonas;Micromonas sp.                                        | GTCGCTCCTACCGATTGAATGGTCCGGTGAAGCGCTCGGACCGCGGCCTCTTGACGGGTCTCCGTCGATTGGCTGTGGGAAGTTCGTTAAACCTTATCATTTAGAGGAAGGAGAAGTCGTAACAAGGTTTCC | ERR562660                                                                                                                            | Archaeplastida;Chlorophyta;Mamiellophyceae;Mamiellales;Mamiellaceae;Micromonas;Micromonas commoda_A1                                 | Micromonas                                                                                                                           | Micromonas commoda_A1                                                                                                                | 0.01139945                                                                                                                           |\n",
       "\n"
      ],
      "text/plain": [
       "  mag                         run_accession.MAG relabun.MAG sampleid          \n",
       "1 IO-all-DCM-0-8-5-00_bin-120 ERR1726829        0.02650766  TARA_066_DCM_0.8-5\n",
       "2 IO-all-DCM-0-8-5-00_bin-120 ERR1726829        0.02650766  TARA_066_DCM_0.8-5\n",
       "  TAXA                                                               \n",
       "1 Archaeplastida;Chlorophyta;Mamiellophyceae;Mamiellales;Mamiellaceae\n",
       "2 Archaeplastida;Chlorophyta;Mamiellophyceae;Mamiellales;Mamiellaceae\n",
       "  genus.MAG  species.MAG   \n",
       "1 Micromonas Micromonas sp.\n",
       "2 Micromonas Micromonas sp.\n",
       "  fullname.MAG                                                                                 \n",
       "1 Archaeplastida;Chlorophyta;Mamiellophyceae;Mamiellales;Mamiellaceae;Micromonas;Micromonas sp.\n",
       "2 Archaeplastida;Chlorophyta;Mamiellophyceae;Mamiellales;Mamiellaceae;Micromonas;Micromonas sp.\n",
       "  seq                                                                                                                                 \n",
       "1 GTCGCTCCTACCGATTGAATGGTCCGGTGAAGCGCTCGGACCGCGGCCTCTTGACGGGTCTCCGTCGATTGGCTGTGGGAAGTTCGTTAAACCTTATCATTTAGAGGAAGGAGAAGTCGTAACAAGGTTTCC\n",
       "2 GTCGCTCCTACCGATTGAATGGTCCGGTGAAGCGCTCGGACCGCGGCCTCTTGACGGGTCTCCGTCGATTGGCTGTGGGAAGTTCGTTAAACCTTATCATTTAGAGGAAGGAGAAGTCGTAACAAGGTTTCC\n",
       "  run_accession.ASV\n",
       "1 ERR562660        \n",
       "2 ERR562660        \n",
       "  fullname.ASV                                                                                        \n",
       "1 Archaeplastida;Chlorophyta;Mamiellophyceae;Mamiellales;Mamiellaceae;Micromonas;Micromonas commoda_A1\n",
       "2 Archaeplastida;Chlorophyta;Mamiellophyceae;Mamiellales;Mamiellaceae;Micromonas;Micromonas commoda_A1\n",
       "  genus.ASV  species.ASV           relabun.ASV\n",
       "1 Micromonas Micromonas commoda_A1 0.01139945 \n",
       "2 Micromonas Micromonas commoda_A1 0.01139945 "
      ]
     },
     "metadata": {},
     "output_type": "display_data"
    }
   ],
   "source": [
    "# Test that this function works\n",
    "mag_test <- mag_relab  %>% filter(mag == \"IO-all-DCM-0-8-5-00_bin-120\") %>% \n",
    "    unite(TAXA, supergroup:family, remove = TRUE, sep =\";\") %>% \n",
    "    # Repeat action within ASV data (same tax level), and match output from ASV to MAG data\n",
    "    ## columns that are repeated from each data will be affixed with .MAG or .ASV\n",
    "    left_join(unite(asv_relab, TAXA, supergroup:family, remove = TRUE, sep =\";\"), \n",
    "              by = c(\"TAXA\"=\"TAXA\", \"sampleid\" = \"sampleid\"), suffix = c(\".MAG\", \".ASV\")) %>%\n",
    "    # Remove samples without an ASV    \n",
    "    filter(!is.na(run_accession.ASV) & !is.na(sampleid)) %>% \n",
    "    filter(seq == \"GTCGCTCCTACCGATTGAATGGTCCGGTGAAGCGCTCGGACCGCGGCCTCTTGACGGGTCTCCGTCGATTGGCTGTGGGAAGTTCGTTAAACCTTATCATTTAGAGGAAGGAGAAGTCGTAACAAGGTTTCC\")\n",
    "    # Group by unique mag and seq identities\n",
    "#     group_by(mag, seq) %>% \n",
    "head(mag_test[1:2,])\n"
   ]
  },
  {
   "cell_type": "code",
   "execution_count": 48,
   "metadata": {},
   "outputs": [
    {
     "data": {
      "text/plain": [
       "\n",
       "Call:\n",
       "lm(formula = relabun.MAG ~ relabun.ASV, data = mag_test)\n",
       "\n",
       "Residuals:\n",
       "      Min        1Q    Median        3Q       Max \n",
       "-0.050257  0.001421  0.001586  0.002652  0.054503 \n",
       "\n",
       "Coefficients:\n",
       "            Estimate Std. Error t value Pr(>|t|)    \n",
       "(Intercept) 0.018393   0.000317   58.02   <2e-16 ***\n",
       "relabun.ASV 0.433116   0.016355   26.48   <2e-16 ***\n",
       "---\n",
       "Signif. codes:  0 ‘***’ 0.001 ‘**’ 0.01 ‘*’ 0.05 ‘.’ 0.1 ‘ ’ 1\n",
       "\n",
       "Residual standard error: 0.006793 on 726 degrees of freedom\n",
       "Multiple R-squared:  0.4913,\tAdjusted R-squared:  0.4906 \n",
       "F-statistic: 701.3 on 1 and 726 DF,  p-value: < 2.2e-16\n"
      ]
     },
     "metadata": {},
     "output_type": "display_data"
    },
    {
     "data": {
      "text/html": [
       "<dl class=dl-horizontal>\n",
       "\t<dt>(Intercept)</dt>\n",
       "\t\t<dd>0.0183934396480409</dd>\n",
       "\t<dt>relabun.ASV</dt>\n",
       "\t\t<dd>0.433115870127168</dd>\n",
       "</dl>\n"
      ],
      "text/latex": [
       "\\begin{description*}\n",
       "\\item[(Intercept)] 0.0183934396480409\n",
       "\\item[relabun.ASV] 0.433115870127168\n",
       "\\end{description*}\n"
      ],
      "text/markdown": [
       "(Intercept)\n",
       ":   0.0183934396480409relabun.ASV\n",
       ":   0.433115870127168\n",
       "\n"
      ],
      "text/plain": [
       "(Intercept) relabun.ASV \n",
       " 0.01839344  0.43311587 "
      ]
     },
     "metadata": {},
     "output_type": "display_data"
    }
   ],
   "source": [
    "out_test <- lm(relabun.MAG ~ relabun.ASV, data = mag_test)\n",
    "summary(out_test)\n",
    "out_test$coefficients\n",
    "# do({lm.fit = lm(relabun.MAG ~ relabun.ASV, data = .)\n",
    "#         data.frame(tidy(lm.fit), glance(lm.fit))}) %>% "
   ]
  },
  {
   "cell_type": "code",
   "execution_count": 35,
   "metadata": {},
   "outputs": [],
   "source": [
    "library(ggtext); library(directlabels)"
   ]
  },
  {
   "cell_type": "code",
   "execution_count": 36,
   "metadata": {},
   "outputs": [
    {
     "ename": "ERROR",
     "evalue": "Error: Can't subset columns that don't exist.\n✖ Column `species.ASV` doesn't exist.\n",
     "output_type": "error",
     "traceback": [
      "Error: Can't subset columns that don't exist.\n✖ Column `species.ASV` doesn't exist.\nTraceback:\n",
      "1. mamiell_fam %>% select(seq, species.ASV) %>% distinct()",
      "2. withVisible(eval(quote(`_fseq`(`_lhs`)), env, env))",
      "3. eval(quote(`_fseq`(`_lhs`)), env, env)",
      "4. eval(quote(`_fseq`(`_lhs`)), env, env)",
      "5. `_fseq`(`_lhs`)",
      "6. freduce(value, `_function_list`)",
      "7. function_list[[i]](value)",
      "8. select(., seq, species.ASV)",
      "9. select.data.frame(., seq, species.ASV)",
      "10. tidyselect::eval_select(expr(c(...)), .data)",
      "11. eval_select_impl(data, names(data), as_quosure(expr, env), include = include, \n  .     exclude = exclude, strict = strict, name_spec = name_spec, \n  .     allow_rename = allow_rename)",
      "12. with_subscript_errors(vars_select_eval(vars, expr, strict, data = x, \n  .     name_spec = name_spec, uniquely_named = uniquely_named, allow_rename = allow_rename, \n  .     type = type), type = type)",
      "13. tryCatch(instrument_base_errors(expr), vctrs_error_subscript = function(cnd) {\n  .     cnd$subscript_action <- subscript_action(type)\n  .     cnd$subscript_elt <- \"column\"\n  .     cnd_signal(cnd)\n  . })",
      "14. tryCatchList(expr, classes, parentenv, handlers)",
      "15. tryCatchOne(expr, names, parentenv, handlers[[1L]])",
      "16. value[[3L]](cond)",
      "17. cnd_signal(cnd)",
      "18. rlang:::signal_abort(x)"
     ]
    }
   ],
   "source": [
    "tmp <- mamiell_fam %>% select(seq, species.ASV) %>% distinct()\n",
    "seq_order <- as.character(tmp$seq)\n",
    "name_order <- as.character(tmp$species.ASV)\n",
    "\n",
    "mamiell_fam$SEQ <- factor(mamiell_fam$seq, levels = seq_order, labels = name_order)\n",
    "head(mamiell_fam[1:3,])"
   ]
  },
  {
   "cell_type": "code",
   "execution_count": 20,
   "metadata": {},
   "outputs": [
    {
     "data": {
      "text/html": [
       "<ol class=list-inline>\n",
       "\t<li>160</li>\n",
       "\t<li>7</li>\n",
       "</ol>\n"
      ],
      "text/latex": [
       "\\begin{enumerate*}\n",
       "\\item 160\n",
       "\\item 7\n",
       "\\end{enumerate*}\n"
      ],
      "text/markdown": [
       "1. 160\n",
       "2. 7\n",
       "\n",
       "\n"
      ],
      "text/plain": [
       "[1] 160   7"
      ]
     },
     "metadata": {},
     "output_type": "display_data"
    }
   ],
   "source": [
    "options(repr.plot.width = 18, repr.plot.height = 18)\n",
    "\n",
    "# mam_lm$SPECIES <- factor(mam_lm$seq, labels = species.ASV)\n",
    "filter(mam_lm, mag %in% mag_mam) %>% \n",
    "# filter(mam_lm, mag == \"SO-all-SRF-0-8-5-00_bin-39\") %>% \n",
    "    ggplot(aes(x = relabun.ASV, y = relabun.MAG, \n",
    "               group = SEQ, fill = SEQ, color = SEQ)) +\n",
    "    geom_smooth(method = \"lm\", alpha = 0.5, aes(color = SEQ)) +\n",
    "    geom_abline(intercept = 0, slope = 1, alpha = .2) +  # Line of best fit\n",
    "    geom_dl(aes(label = round(r.squared, 3)), \n",
    "            method = list(\"smart.grid\", cex = 0.8)) +\n",
    "#     geom_dl(aes(label = species.ASV), \n",
    "#             method = list(\"smart.grid\", cex = 0.8))+\n",
    "    geom_point(aes(fill = SEQ), shape = 21, color = \"black\") +\n",
    "    scale_y_log10() +\n",
    "    scale_x_log10() +\n",
    "    facet_wrap(. ~ mag + species.MAG) +\n",
    "    theme_bw() +\n",
    "    theme(axis.text = element_text(color = \"black\"),\n",
    "         strip.background = element_blank(),\n",
    "         strip.text = element_text(size = 6, hjust = 1, vjust = -1),\n",
    "         legend.position = \"bottom\",\n",
    "         plot.margin = unit(c(1,3,1,1), \"lines\")) +\n",
    "    labs(x = \"MAG relative abundance\", y = \"ASV relative abundance\", \n",
    "         title = \"\") +\n",
    "    guides(fill = guide_legend(override.aes=list(shape=21)))"
   ]
  },
  {
   "cell_type": "code",
   "execution_count": 17,
   "metadata": {},
   "outputs": [],
   "source": [
    "map_ASVtoMAG_runlm(mag_sub, asv_sub, order, 100, \"Mamiellaceae-ORDER-bestfit.txt\")\n",
    "\n",
    "tmp <- read.delim(\"Mamiellaceae-ORDER-bestfit.txt\"); head(tmp[1:2,]); dim(tmp)\n",
    "tmp %>% select(starts_with(\"fullname\")) %>% distinct()"
   ]
  },
  {
   "cell_type": "code",
   "execution_count": 24,
   "metadata": {},
   "outputs": [],
   "source": [
    "# Chlorophyta\n",
    "mag_sub <- filter(mag_relab, division == \"Chlorophyta\") %>% data.frame\n",
    "asv_sub <- filter(asv_relab, division == \"Chlorophyta\") %>% data.frame\n",
    "map_ASVtoMAG_runlm(mag_sub, asv_sub, order, 20, \"Chlorophyta-ORDER-bestfit.txt\")\n",
    "\n",
    "tmp_chl <- read.delim(\"Chlorophyta-ORDER-bestfit.txt\"); head(tmp_chl[1:2,])\n",
    "tmp_chl %>% select(starts_with(\"fullname\")) %>% distinct()"
   ]
  },
  {
   "cell_type": "code",
   "execution_count": null,
   "metadata": {},
   "outputs": [],
   "source": []
  },
  {
   "cell_type": "code",
   "execution_count": null,
   "metadata": {},
   "outputs": [],
   "source": []
  },
  {
   "cell_type": "markdown",
   "metadata": {},
   "source": [
    "## Below functions accomplish same as above, but use to generate plots\n"
   ]
  },
  {
   "cell_type": "code",
   "execution_count": 6,
   "metadata": {},
   "outputs": [],
   "source": [
    "# Function maps ASVs to MAGs, but user defines level and taxonomic identity.\n",
    "## This function first subsets to a specific taxonomic group/level (by name), with the goal\n",
    "## of providing an output that can be plotted so show the trend between MAG and ASV.\n",
    "## Follow up function, performs the linear regression.\n",
    "\n",
    "# Check MAG data for taxa of interest\n",
    "check_mag <- function(mag_df, asv_df, level){\n",
    "    level <- enquo(level)\n",
    "    mag_out <- mag_df %>% \n",
    "        unite(TAXA, supergroup:!!level, remove = TRUE, sep =\";\")\n",
    "    asv_out <- asv_df %>% \n",
    "        unite(TAXA, supergroup:!!level, remove = TRUE, sep =\";\")\n",
    "    writeLines(paste(length(unique(mag_out$TAXA)), \"unique in MAG data\"))\n",
    "    writeLines(paste(length(unique(asv_out$TAXA)), \"unique in ASV data\"))\n",
    "    unique(mag_out$TAXA)\n",
    "}\n",
    "\n",
    "# Filter first by taxonomic level, and then map ASVs to MAGs\n",
    "## User defined:\n",
    "# level = taxonomic level to match\n",
    "# taxa = taxonomic name at the determined level to focus on (must be within determined level)\n",
    "# freq = number of ERRs (samples or unique seq-mag matches) to be considered for lm\n",
    "map_ASVtoMAG_bylevel <- function(mag_df, asv_df, subset_level, subset_taxa, map_level, freq){\n",
    "    subset_level <- enquo(subset_level)\n",
    "    map_level <- enquo(map_level)\n",
    "    mag_df %>% \n",
    "    filter(!!subset_level == subset_taxa) %>% \n",
    "    # Classify to genus level\n",
    "    unite(TAXA, supergroup:!!map_level, remove = FALSE, sep =\";\") %>% \n",
    "    # Classify ASVs to genus level and merge by genus and sample ID\n",
    "    left_join(unite(asv_df, TAXA, supergroup:!!map_level, remove = FALSE, sep =\";\"), \n",
    "              by = c(\"TAXA\"=\"TAXA\", \"sampleid\" = \"sampleid\"), suffix = c(\".MAG\", \".ASV\")) %>%\n",
    "    filter(!is.na(run_accession.ASV) & !is.na(sampleid)) %>% # Remove samples without an ASV    \n",
    "    group_by(mag, seq) %>% # Selects correct grouping\n",
    "    mutate(OCCUR = n_distinct(sampleid)) %>% # Count occurences and ratio of relative abundances\n",
    "    filter(OCCUR > freq) %>% #ASV-MAG incidence must occur more than predetermined # of times\n",
    "    data.frame\n",
    "    }\n",
    "\n",
    "# Example execution:\n",
    "# tmp_map <- map_ASV_to_MAG(mag_relab, asv_relab, genus, \"Ostreococcus\", 25)\n",
    "# Above will match data to the genus level within Ostreococcus\n",
    "## and will remove matches that appear fewer than 25 times\n",
    "\n",
    "\n",
    "# # FXN - perform linear regression\n",
    "lm_generate <- function(df, r){\n",
    "    df_final <- df %>% \n",
    "    group_by(mag, seq) %>% \n",
    "    do({lm.fit = lm(relabun.MAG ~ relabun.ASV, data = .)\n",
    "       data.frame(tidy(lm.fit), glance(lm.fit))}) %>% \n",
    "    select(mag, seq, r.squared, p.value, term, estimate) %>% \n",
    "    spread(term, estimate) %>% \n",
    "    select(everything(), slope = relabun.ASV) %>% \n",
    "    right_join(df, by = c(\"mag\"=\"mag\", \"seq\"=\"seq\"))  %>% \n",
    "    filter(r.squared > r) %>% \n",
    "    filter(slope > 0) %>% \n",
    "    data.frame\n",
    "    tmp_stats <- df_final %>% \n",
    "    select(mag, seq, OCCUR, r.squared, p.value) %>% \n",
    "    distinct()\n",
    "    # Report:\n",
    "    writeLines(paste(range(tmp_stats$r.squared)[1], \" min of r^2 values\"))\n",
    "    writeLines(paste(range(tmp_stats$r.squared)[2], \" max of r^2 values\"))\n",
    "    writeLines(paste(length(unique(tmp_stats$mag)),\" total MAGs\"))\n",
    "    writeLines(paste(length(unique(tmp_stats$seq)),\" total ASVs\"))\n",
    "    writeLines(paste(dim(tmp_stats)[1],\" total comparisons that will be plot\"))\n",
    "    return(df_final)\n",
    "    }\n",
    "\n",
    "# # Perform linear regression - select r^2 value to filter by\n",
    "# find_bestfit_r2 <- function(df, r){\n",
    "#     df %>% \n",
    "#     nest(-mag, -seq) %>% \n",
    "#     mutate(lm_fit = map(data, ~ lm(relabun.MAG ~ relabun.ASV, data = .)),\n",
    "#           results = map(lm_fit, glance)) %>% \n",
    "#     unnest(results) %>% \n",
    "#     select(mag, seq, r.squared, p.value) %>% \n",
    "#     right_join(df, by = c(\"mag\"=\"mag\", \"seq\"=\"seq\"))  %>% \n",
    "#     filter(r.squared > r) %>% \n",
    "#     data.frame\n",
    "#     }\n",
    "\n",
    "\n",
    "bestfit_lm <- function(df_lm, freq, filename){\n",
    "    # For each mag, select highest r.squared value\n",
    "    out <- df_lm %>%\n",
    "    select(mag, seq, r.squared, slope, TAXA, starts_with(\"fullname\"), OCCUR) %>% \n",
    "    filter(OCCUR > freq) %>% # Re-subsample by frequency\n",
    "    group_by(mag) %>%\n",
    "    arrange(desc(r.squared)) %>% \n",
    "    slice(1)\n",
    "    write_delim(out, path = filename, delim = \"\\t\")\n",
    "    }\n",
    "\n",
    "# Function to plot lm trends\n",
    "plot_lm_results <- function(df_lm, title){\n",
    "#     y.place = max(df_lm$relabun.MAG)\n",
    "    ggplot(df_lm, aes(x = relabun.ASV, y = relabun.MAG)) +\n",
    "    geom_smooth(method = \"lm\", alpha = 0.5) +\n",
    "    geom_abline(intercept = 0, slope = 1, alpha = .2) +  # Line of perfect fit\n",
    "    geom_point(aes(fill = seq), shape = 21, color = \"black\") +\n",
    "#     geom_richtext(aes(x = 0, y = y.place, \n",
    "#                   label = paste0(\"r<sup>2</sup> = \", round(r.squared, 3)),\n",
    "#              hjust = -0.1, vjust = 1.2), text.color = \"black\", label.color = NA) +\n",
    "#     scale_y_log10() +\n",
    "#     scale_x_log10() +\n",
    "    facet_wrap(mag ~ seq + species.ASV + round(r.squared,3)) +\n",
    "    theme_bw() +\n",
    "    theme(axis.text = element_text(color = \"black\"),\n",
    "         strip.background = element_blank(),\n",
    "         strip.text = element_text(size = 8),\n",
    "         legend.position = \"bottom\") +\n",
    "    labs(x = \"MAG relative abundance\", y = \"ASV relative abundance\", \n",
    "         title = \"\") +\n",
    "    guides(fill = guide_legend(override.aes=list(shape=21)))\n",
    "    }"
   ]
  },
  {
   "cell_type": "markdown",
   "metadata": {},
   "source": [
    "## Mamiellophyceae"
   ]
  },
  {
   "cell_type": "code",
   "execution_count": 136,
   "metadata": {},
   "outputs": [],
   "source": [
    "# Generate best fit table - map at \n",
    "map_ASVtoMAG_runlm(mag_sub, asv_sub, family, 100, \"Mamiellophyceae-family-bestfit.txt\")\n",
    "# map_ASVtoMAG_runlm(mag_sub, asv_sub, order, 100, \"Mamiellophyceae-order-bestfit.txt\")\n",
    "# map_ASVtoMAG_runlm(mag_sub, asv_sub, genus, 100, \"Mamiellophyceae-genus-bestfit.txt\")\n",
    "\n",
    "# tmp <- read.delim(\"Mamiellophyceae-bestfit.txt\"); head(tmp[1:2,]); dim(tmp)\n",
    "# tmp %>% select(starts_with(\"fullname\")) %>% distinct()"
   ]
  },
  {
   "cell_type": "code",
   "execution_count": 106,
   "metadata": {},
   "outputs": [],
   "source": [
    "# Mamiellophyceae  - order level\n",
    "mam <- map_ASVtoMAG_bylevel(mag_relab, asv_relab, class, \"Mamiellophyceae\", class, 20)\n",
    "# mam_lm <- lm_generate(mam, 0.0)"
   ]
  },
  {
   "cell_type": "code",
   "execution_count": 107,
   "metadata": {},
   "outputs": [],
   "source": [
    "#\n",
    "# July 29, 2020 - Use these two functions to subset taxonomic groups and perform linear regression.\n",
    "#\n",
    "\n",
    "\n",
    "# Filter first by taxonomic level, and then map ASVs to MAGs\n",
    "## User defined:\n",
    "# level = taxonomic level to match\n",
    "# taxa = taxonomic name at the determined level to focus on (must be within determined level)\n",
    "# freq = number of ERRs (samples or unique seq-mag matches) to be considered for lm\n",
    "map_ASVtoMAG_bylevel <- function(mag_df, asv_df, subset_level, subset_taxa, map_level, freq){\n",
    "    subset_level <- enquo(subset_level)\n",
    "    map_level <- enquo(map_level)\n",
    "    mag_df %>% \n",
    "    filter(!!subset_level == subset_taxa) %>% \n",
    "    # Classify to genus level\n",
    "    unite(TAXA, supergroup:!!map_level, remove = FALSE, sep =\";\") %>% \n",
    "    # Classify ASVs to genus level and merge by genus and sample ID\n",
    "    left_join(unite(asv_df, TAXA, supergroup:!!map_level, remove = FALSE, sep =\";\"), \n",
    "              by = c(\"TAXA\"=\"TAXA\", \"sampleid\" = \"sampleid\"), suffix = c(\".MAG\", \".ASV\")) %>%\n",
    "    filter(!is.na(run_accession.ASV) & !is.na(sampleid)) %>% # Remove samples without an ASV    \n",
    "    group_by(mag, seq) %>% # Selects correct grouping\n",
    "    mutate(OCCUR = n_distinct(sampleid)) %>% # Count occurences and ratio of relative abundances\n",
    "    filter(OCCUR > freq) %>% #ASV-MAG incidence must occur more than predetermined # of times\n",
    "    data.frame\n",
    "    }\n",
    "\n",
    "\n",
    "\n",
    "# # Perform linear regression - select r^2 value to filter by\n",
    "#\n",
    "# Input filtered and combined data:\n",
    "est_lm <- function(df, freq, r){\n",
    "    df_line <- df %>% \n",
    "    nest(-mag, -seq) %>% \n",
    "    mutate(lm_fit = map(data, ~ lm(relabun.MAG ~ relabun.ASV, data = .)),\n",
    "          tidied = map(lm_fit, tidy)) %>% \n",
    "#           glanced = map(lm_fit, glance)) %>% \n",
    "    unnest(tidied) %>% \n",
    "    select(mag, seq, term, estimate) %>%\n",
    "    pivot_wider(names_from = term, values_from = estimate) %>% \n",
    "    data.frame\n",
    "    # Modify column names\n",
    "    colnames(df_line) <- c(\"mag\", \"seq\", \"Intercept\", \"Slope\")\n",
    "    # Re-do lm() to select rsquared value\n",
    "    df_lm <- df %>% \n",
    "    nest(-mag, -seq) %>% \n",
    "    mutate(lm_fit = map(data, ~ lm(relabun.MAG ~ relabun.ASV, data = .)),\n",
    "          glanced = map(lm_fit, glance)) %>% \n",
    "    unnest(glanced) %>% \n",
    "    select(mag, seq, r.squared) %>% \n",
    "    # Join with other lm information\n",
    "    right_join(df_line, by = c(\"mag\"=\"mag\", \"seq\"=\"seq\")) %>% \n",
    "    # Join with all other metadata for mag-seq pair\n",
    "    right_join(df, by = c(\"mag\"=\"mag\", \"seq\"=\"seq\")) %>% \n",
    "    # Filter by positive slope, occurence, and rsquared value\n",
    "    filter(Slope > 0) %>% \n",
    "    filter(OCCUR > freq) %>% \n",
    "    filter(r.squared > r) %>% \n",
    "    data.frame\n",
    "    tmp_stats <- df_lm %>% \n",
    "    select(mag, seq, OCCUR, r.squared) %>% \n",
    "    distinct()\n",
    "    # Report:\n",
    "    writeLines(paste(range(tmp_stats$r.squared)[1], \" min of r^2 values\"))\n",
    "    writeLines(paste(range(tmp_stats$r.squared)[2], \" max of r^2 values\"))\n",
    "    writeLines(paste(length(unique(tmp_stats$mag)),\" total MAGs\"))\n",
    "    writeLines(paste(length(unique(tmp_stats$seq)),\" total ASVs\"))\n",
    "    writeLines(paste(dim(tmp_stats)[1],\" total comparisons that will be plot\"))\n",
    "    return(df_lm)\n",
    "    }"
   ]
  },
  {
   "cell_type": "code",
   "execution_count": 81,
   "metadata": {},
   "outputs": [],
   "source": [
    "# # test\n",
    "# mam_test <- mam %>% \n",
    "#     filter(mag == \"MS-all-DCM-0-8-5-00_bin-320\") %>% \n",
    "#     filter(seq == \"GTCGCTCCTACCGATTGAATGGTCCGGTGAAGCGTTCGGACTATGACTCTCTGACGGTTCGCCGTCTAAGTGTCGTGGGAAGTTCGTTGAACCTTATCATTTAGAGGAAGGAGAAGTCGTAACAAGGTTTCC\") %>% \n",
    "#     data.frame\n",
    "# out_test <- lm(relabun.MAG ~ relabun.ASV, data = mam_test)\n",
    "# summary(out_test)"
   ]
  },
  {
   "cell_type": "code",
   "execution_count": 108,
   "metadata": {},
   "outputs": [
    {
     "name": "stderr",
     "output_type": "stream",
     "text": [
      "Warning message:\n",
      "“All elements of `...` must be named.\n",
      "Did you want `data = c(run_accession.MAG, relabun.MAG, sampleid, TAXA, supergroup.MAG, \n",
      "    division.MAG, class.MAG, order.MAG, family.MAG, genus.MAG, \n",
      "    species.MAG, fullname.MAG, run_accession.ASV, fullname.ASV, \n",
      "    supergroup.ASV, division.ASV, class.ASV, order.ASV, family.ASV, \n",
      "    genus.ASV, species.ASV, relabun.ASV, OCCUR)`?”Warning message:\n",
      "“All elements of `...` must be named.\n",
      "Did you want `data = c(run_accession.MAG, relabun.MAG, sampleid, TAXA, supergroup.MAG, \n",
      "    division.MAG, class.MAG, order.MAG, family.MAG, genus.MAG, \n",
      "    species.MAG, fullname.MAG, run_accession.ASV, fullname.ASV, \n",
      "    supergroup.ASV, division.ASV, class.ASV, order.ASV, family.ASV, \n",
      "    genus.ASV, species.ASV, relabun.ASV, OCCUR)`?”"
     ]
    },
    {
     "name": "stdout",
     "output_type": "stream",
     "text": [
      "0.500121369109915  min of r^2 values\n",
      "0.976495010305982  max of r^2 values\n",
      "41  total MAGs\n",
      "3  total ASVs\n",
      "70  total comparisons that will be plot\n"
     ]
    },
    {
     "data": {
      "text/html": [
       "<table>\n",
       "<thead><tr><th scope=col>mag</th><th scope=col>seq</th><th scope=col>r.squared</th><th scope=col>Intercept</th><th scope=col>Slope</th><th scope=col>run_accession.MAG</th><th scope=col>relabun.MAG</th><th scope=col>sampleid</th><th scope=col>TAXA</th><th scope=col>supergroup.MAG</th><th scope=col>...</th><th scope=col>fullname.ASV</th><th scope=col>supergroup.ASV</th><th scope=col>division.ASV</th><th scope=col>class.ASV</th><th scope=col>order.ASV</th><th scope=col>family.ASV</th><th scope=col>genus.ASV</th><th scope=col>species.ASV</th><th scope=col>relabun.ASV</th><th scope=col>OCCUR</th></tr></thead>\n",
       "<tbody>\n",
       "\t<tr><td>MS-all-DCM-0-8-5-00_bin-320                                                                                                         </td><td>GTCGCTCCTACCGATTGAATGGTCCGGTGAAGCGTTTGGACTATGGTTTTCTGACGGTTCGCCATTGGATTACCGTGGGAAATTCGTTAAACCTTATCATTTAGAGGAAGGAGAAGTCGTAACAAGGTTTCC</td><td>0.9155489                                                                                                                           </td><td>-0.0007814753                                                                                                                       </td><td>0.03878929                                                                                                                          </td><td>ERR599243                                                                                                                           </td><td>1.297046e-05                                                                                                                        </td><td>TARA_068_SRF_180-2000                                                                                                               </td><td>Archaeplastida;Chlorophyta;Mamiellophyceae                                                                                          </td><td>Archaeplastida                                                                                                                      </td><td>...                                                                                                                                 </td><td>Archaeplastida;Chlorophyta;Mamiellophyceae;Mamiellales;Bathycoccaceae;Ostreococcus;Ostreococcus tauri                               </td><td>Archaeplastida                                                                                                                      </td><td>Chlorophyta                                                                                                                         </td><td>Mamiellophyceae                                                                                                                     </td><td>Mamiellales                                                                                                                         </td><td>Bathycoccaceae                                                                                                                      </td><td>Ostreococcus                                                                                                                        </td><td>Ostreococcus tauri                                                                                                                  </td><td>0.008656335                                                                                                                         </td><td>114                                                                                                                                 </td></tr>\n",
       "\t<tr><td>MS-all-DCM-0-8-5-00_bin-320                                                                                                         </td><td>GTCGCTCCTACCGATTGAATGGTCCGGTGAAGCGTTTGGACTATGGTTTTCTGACGGTTCGCCATTGGATTACCGTGGGAAATTCGTTAAACCTTATCATTTAGAGGAAGGAGAAGTCGTAACAAGGTTTCC</td><td>0.9155489                                                                                                                           </td><td>-0.0007814753                                                                                                                       </td><td>0.03878929                                                                                                                          </td><td>ERR1726829                                                                                                                          </td><td>5.828912e-02                                                                                                                        </td><td>TARA_066_DCM_0.8-5                                                                                                                  </td><td>Archaeplastida;Chlorophyta;Mamiellophyceae                                                                                          </td><td>Archaeplastida                                                                                                                      </td><td>...                                                                                                                                 </td><td>Archaeplastida;Chlorophyta;Mamiellophyceae;Mamiellales;Bathycoccaceae;Ostreococcus;Ostreococcus tauri                               </td><td>Archaeplastida                                                                                                                      </td><td>Chlorophyta                                                                                                                         </td><td>Mamiellophyceae                                                                                                                     </td><td>Mamiellales                                                                                                                         </td><td>Bathycoccaceae                                                                                                                      </td><td>Ostreococcus                                                                                                                        </td><td>Ostreococcus tauri                                                                                                                  </td><td>1.405708666                                                                                                                         </td><td>114                                                                                                                                 </td></tr>\n",
       "</tbody>\n",
       "</table>\n"
      ],
      "text/latex": [
       "\\begin{tabular}{r|llllllllllllllllllllllllllll}\n",
       " mag & seq & r.squared & Intercept & Slope & run\\_accession.MAG & relabun.MAG & sampleid & TAXA & supergroup.MAG & ... & fullname.ASV & supergroup.ASV & division.ASV & class.ASV & order.ASV & family.ASV & genus.ASV & species.ASV & relabun.ASV & OCCUR\\\\\n",
       "\\hline\n",
       "\t MS-all-DCM-0-8-5-00\\_bin-320                                                                                                        & GTCGCTCCTACCGATTGAATGGTCCGGTGAAGCGTTTGGACTATGGTTTTCTGACGGTTCGCCATTGGATTACCGTGGGAAATTCGTTAAACCTTATCATTTAGAGGAAGGAGAAGTCGTAACAAGGTTTCC & 0.9155489                                                                                                                            & -0.0007814753                                                                                                                        & 0.03878929                                                                                                                           & ERR599243                                                                                                                            & 1.297046e-05                                                                                                                         & TARA\\_068\\_SRF\\_180-2000                                                                                                          & Archaeplastida;Chlorophyta;Mamiellophyceae                                                                                           & Archaeplastida                                                                                                                       & ...                                                                                                                                  & Archaeplastida;Chlorophyta;Mamiellophyceae;Mamiellales;Bathycoccaceae;Ostreococcus;Ostreococcus tauri                                & Archaeplastida                                                                                                                       & Chlorophyta                                                                                                                          & Mamiellophyceae                                                                                                                      & Mamiellales                                                                                                                          & Bathycoccaceae                                                                                                                       & Ostreococcus                                                                                                                         & Ostreococcus tauri                                                                                                                   & 0.008656335                                                                                                                          & 114                                                                                                                                 \\\\\n",
       "\t MS-all-DCM-0-8-5-00\\_bin-320                                                                                                        & GTCGCTCCTACCGATTGAATGGTCCGGTGAAGCGTTTGGACTATGGTTTTCTGACGGTTCGCCATTGGATTACCGTGGGAAATTCGTTAAACCTTATCATTTAGAGGAAGGAGAAGTCGTAACAAGGTTTCC & 0.9155489                                                                                                                            & -0.0007814753                                                                                                                        & 0.03878929                                                                                                                           & ERR1726829                                                                                                                           & 5.828912e-02                                                                                                                         & TARA\\_066\\_DCM\\_0.8-5                                                                                                             & Archaeplastida;Chlorophyta;Mamiellophyceae                                                                                           & Archaeplastida                                                                                                                       & ...                                                                                                                                  & Archaeplastida;Chlorophyta;Mamiellophyceae;Mamiellales;Bathycoccaceae;Ostreococcus;Ostreococcus tauri                                & Archaeplastida                                                                                                                       & Chlorophyta                                                                                                                          & Mamiellophyceae                                                                                                                      & Mamiellales                                                                                                                          & Bathycoccaceae                                                                                                                       & Ostreococcus                                                                                                                         & Ostreococcus tauri                                                                                                                   & 1.405708666                                                                                                                          & 114                                                                                                                                 \\\\\n",
       "\\end{tabular}\n"
      ],
      "text/markdown": [
       "\n",
       "| mag | seq | r.squared | Intercept | Slope | run_accession.MAG | relabun.MAG | sampleid | TAXA | supergroup.MAG | ... | fullname.ASV | supergroup.ASV | division.ASV | class.ASV | order.ASV | family.ASV | genus.ASV | species.ASV | relabun.ASV | OCCUR |\n",
       "|---|---|---|---|---|---|---|---|---|---|---|---|---|---|---|---|---|---|---|---|---|\n",
       "| MS-all-DCM-0-8-5-00_bin-320                                                                                                          | GTCGCTCCTACCGATTGAATGGTCCGGTGAAGCGTTTGGACTATGGTTTTCTGACGGTTCGCCATTGGATTACCGTGGGAAATTCGTTAAACCTTATCATTTAGAGGAAGGAGAAGTCGTAACAAGGTTTCC | 0.9155489                                                                                                                            | -0.0007814753                                                                                                                        | 0.03878929                                                                                                                           | ERR599243                                                                                                                            | 1.297046e-05                                                                                                                         | TARA_068_SRF_180-2000                                                                                                                | Archaeplastida;Chlorophyta;Mamiellophyceae                                                                                           | Archaeplastida                                                                                                                       | ...                                                                                                                                  | Archaeplastida;Chlorophyta;Mamiellophyceae;Mamiellales;Bathycoccaceae;Ostreococcus;Ostreococcus tauri                                | Archaeplastida                                                                                                                       | Chlorophyta                                                                                                                          | Mamiellophyceae                                                                                                                      | Mamiellales                                                                                                                          | Bathycoccaceae                                                                                                                       | Ostreococcus                                                                                                                         | Ostreococcus tauri                                                                                                                   | 0.008656335                                                                                                                          | 114                                                                                                                                  |\n",
       "| MS-all-DCM-0-8-5-00_bin-320                                                                                                          | GTCGCTCCTACCGATTGAATGGTCCGGTGAAGCGTTTGGACTATGGTTTTCTGACGGTTCGCCATTGGATTACCGTGGGAAATTCGTTAAACCTTATCATTTAGAGGAAGGAGAAGTCGTAACAAGGTTTCC | 0.9155489                                                                                                                            | -0.0007814753                                                                                                                        | 0.03878929                                                                                                                           | ERR1726829                                                                                                                           | 5.828912e-02                                                                                                                         | TARA_066_DCM_0.8-5                                                                                                                   | Archaeplastida;Chlorophyta;Mamiellophyceae                                                                                           | Archaeplastida                                                                                                                       | ...                                                                                                                                  | Archaeplastida;Chlorophyta;Mamiellophyceae;Mamiellales;Bathycoccaceae;Ostreococcus;Ostreococcus tauri                                | Archaeplastida                                                                                                                       | Chlorophyta                                                                                                                          | Mamiellophyceae                                                                                                                      | Mamiellales                                                                                                                          | Bathycoccaceae                                                                                                                       | Ostreococcus                                                                                                                         | Ostreococcus tauri                                                                                                                   | 1.405708666                                                                                                                          | 114                                                                                                                                  |\n",
       "\n"
      ],
      "text/plain": [
       "  mag                        \n",
       "1 MS-all-DCM-0-8-5-00_bin-320\n",
       "2 MS-all-DCM-0-8-5-00_bin-320\n",
       "  seq                                                                                                                                 \n",
       "1 GTCGCTCCTACCGATTGAATGGTCCGGTGAAGCGTTTGGACTATGGTTTTCTGACGGTTCGCCATTGGATTACCGTGGGAAATTCGTTAAACCTTATCATTTAGAGGAAGGAGAAGTCGTAACAAGGTTTCC\n",
       "2 GTCGCTCCTACCGATTGAATGGTCCGGTGAAGCGTTTGGACTATGGTTTTCTGACGGTTCGCCATTGGATTACCGTGGGAAATTCGTTAAACCTTATCATTTAGAGGAAGGAGAAGTCGTAACAAGGTTTCC\n",
       "  r.squared Intercept     Slope      run_accession.MAG relabun.MAG \n",
       "1 0.9155489 -0.0007814753 0.03878929 ERR599243         1.297046e-05\n",
       "2 0.9155489 -0.0007814753 0.03878929 ERR1726829        5.828912e-02\n",
       "  sampleid              TAXA                                      \n",
       "1 TARA_068_SRF_180-2000 Archaeplastida;Chlorophyta;Mamiellophyceae\n",
       "2 TARA_066_DCM_0.8-5    Archaeplastida;Chlorophyta;Mamiellophyceae\n",
       "  supergroup.MAG ...\n",
       "1 Archaeplastida ...\n",
       "2 Archaeplastida ...\n",
       "  fullname.ASV                                                                                         \n",
       "1 Archaeplastida;Chlorophyta;Mamiellophyceae;Mamiellales;Bathycoccaceae;Ostreococcus;Ostreococcus tauri\n",
       "2 Archaeplastida;Chlorophyta;Mamiellophyceae;Mamiellales;Bathycoccaceae;Ostreococcus;Ostreococcus tauri\n",
       "  supergroup.ASV division.ASV class.ASV       order.ASV   family.ASV    \n",
       "1 Archaeplastida Chlorophyta  Mamiellophyceae Mamiellales Bathycoccaceae\n",
       "2 Archaeplastida Chlorophyta  Mamiellophyceae Mamiellales Bathycoccaceae\n",
       "  genus.ASV    species.ASV        relabun.ASV OCCUR\n",
       "1 Ostreococcus Ostreococcus tauri 0.008656335 114  \n",
       "2 Ostreococcus Ostreococcus tauri 1.405708666 114  "
      ]
     },
     "metadata": {},
     "output_type": "display_data"
    }
   ],
   "source": [
    "mam_lm <- est_lm(mam, 20, 0.5)\n",
    "head(mam_lm[1:2,])"
   ]
  },
  {
   "cell_type": "code",
   "execution_count": null,
   "metadata": {},
   "outputs": [],
   "source": [
    "# Select mag, seq, rsquared, occur....\n",
    "# group by mag, seq, mutate to add max occur and max slope\n",
    "# Casewhen.... mutated max occur == occur, \"Best\" ~ else... \n",
    "# Casewhen mtuate max slope == \"slope\", \"Best\" ~ else\n",
    "# pivot wider"
   ]
  },
  {
   "cell_type": "code",
   "execution_count": 103,
   "metadata": {},
   "outputs": [
    {
     "data": {
      "text/html": [
       "<ol class=list-inline>\n",
       "\t<li>70</li>\n",
       "\t<li>6</li>\n",
       "</ol>\n"
      ],
      "text/latex": [
       "\\begin{enumerate*}\n",
       "\\item 70\n",
       "\\item 6\n",
       "\\end{enumerate*}\n"
      ],
      "text/markdown": [
       "1. 70\n",
       "2. 6\n",
       "\n",
       "\n"
      ],
      "text/plain": [
       "[1] 70  6"
      ]
     },
     "metadata": {},
     "output_type": "display_data"
    }
   ],
   "source": [
    "tmp <- mam_lm %>% select(mag, seq, starts_with(\"fullname\"), r.squared, OCCUR) %>% distinct()\n",
    "dim(tmp)\n",
    "write_delim(tmp, path = \"mam_lm.txt\", delim = \"\\t\")"
   ]
  },
  {
   "cell_type": "code",
   "execution_count": 76,
   "metadata": {},
   "outputs": [],
   "source": [
    "# # Select mags\n",
    "# mag_mam <- c(\"IO-all-DCM-0-8-5-00_bin-120\",\"NAO-all-DCM-0-8-5-00_bin-171\",\"NAO-all-SRF-0-8-5-00_bin-550\",\"RS-all-SRF-0-8-5-00_bin-83\",\"SAO-all-DCM-0-8-5-00_bin-2\",\"SO-all-SRF-0-8-5-00_bin-39\")\n",
    "# head(mam_lm[1:2,])"
   ]
  },
  {
   "cell_type": "code",
   "execution_count": 91,
   "metadata": {},
   "outputs": [
    {
     "data": {
      "text/html": [
       "<ol class=list-inline>\n",
       "\t<li>'mag'</li>\n",
       "\t<li>'seq'</li>\n",
       "\t<li>'r.squared'</li>\n",
       "\t<li>'Intercept'</li>\n",
       "\t<li>'Slope'</li>\n",
       "\t<li>'run_accession.MAG'</li>\n",
       "\t<li>'relabun.MAG'</li>\n",
       "\t<li>'sampleid'</li>\n",
       "\t<li>'TAXA'</li>\n",
       "\t<li>'supergroup.MAG'</li>\n",
       "\t<li>'division.MAG'</li>\n",
       "\t<li>'class.MAG'</li>\n",
       "\t<li>'order.MAG'</li>\n",
       "\t<li>'family.MAG'</li>\n",
       "\t<li>'genus.MAG'</li>\n",
       "\t<li>'species.MAG'</li>\n",
       "\t<li>'fullname.MAG'</li>\n",
       "\t<li>'run_accession.ASV'</li>\n",
       "\t<li>'fullname.ASV'</li>\n",
       "\t<li>'supergroup.ASV'</li>\n",
       "\t<li>'division.ASV'</li>\n",
       "\t<li>'class.ASV'</li>\n",
       "\t<li>'order.ASV'</li>\n",
       "\t<li>'family.ASV'</li>\n",
       "\t<li>'genus.ASV'</li>\n",
       "\t<li>'species.ASV'</li>\n",
       "\t<li>'relabun.ASV'</li>\n",
       "\t<li>'OCCUR'</li>\n",
       "\t<li>'SEQ'</li>\n",
       "</ol>\n"
      ],
      "text/latex": [
       "\\begin{enumerate*}\n",
       "\\item 'mag'\n",
       "\\item 'seq'\n",
       "\\item 'r.squared'\n",
       "\\item 'Intercept'\n",
       "\\item 'Slope'\n",
       "\\item 'run\\_accession.MAG'\n",
       "\\item 'relabun.MAG'\n",
       "\\item 'sampleid'\n",
       "\\item 'TAXA'\n",
       "\\item 'supergroup.MAG'\n",
       "\\item 'division.MAG'\n",
       "\\item 'class.MAG'\n",
       "\\item 'order.MAG'\n",
       "\\item 'family.MAG'\n",
       "\\item 'genus.MAG'\n",
       "\\item 'species.MAG'\n",
       "\\item 'fullname.MAG'\n",
       "\\item 'run\\_accession.ASV'\n",
       "\\item 'fullname.ASV'\n",
       "\\item 'supergroup.ASV'\n",
       "\\item 'division.ASV'\n",
       "\\item 'class.ASV'\n",
       "\\item 'order.ASV'\n",
       "\\item 'family.ASV'\n",
       "\\item 'genus.ASV'\n",
       "\\item 'species.ASV'\n",
       "\\item 'relabun.ASV'\n",
       "\\item 'OCCUR'\n",
       "\\item 'SEQ'\n",
       "\\end{enumerate*}\n"
      ],
      "text/markdown": [
       "1. 'mag'\n",
       "2. 'seq'\n",
       "3. 'r.squared'\n",
       "4. 'Intercept'\n",
       "5. 'Slope'\n",
       "6. 'run_accession.MAG'\n",
       "7. 'relabun.MAG'\n",
       "8. 'sampleid'\n",
       "9. 'TAXA'\n",
       "10. 'supergroup.MAG'\n",
       "11. 'division.MAG'\n",
       "12. 'class.MAG'\n",
       "13. 'order.MAG'\n",
       "14. 'family.MAG'\n",
       "15. 'genus.MAG'\n",
       "16. 'species.MAG'\n",
       "17. 'fullname.MAG'\n",
       "18. 'run_accession.ASV'\n",
       "19. 'fullname.ASV'\n",
       "20. 'supergroup.ASV'\n",
       "21. 'division.ASV'\n",
       "22. 'class.ASV'\n",
       "23. 'order.ASV'\n",
       "24. 'family.ASV'\n",
       "25. 'genus.ASV'\n",
       "26. 'species.ASV'\n",
       "27. 'relabun.ASV'\n",
       "28. 'OCCUR'\n",
       "29. 'SEQ'\n",
       "\n",
       "\n"
      ],
      "text/plain": [
       " [1] \"mag\"               \"seq\"               \"r.squared\"        \n",
       " [4] \"Intercept\"         \"Slope\"             \"run_accession.MAG\"\n",
       " [7] \"relabun.MAG\"       \"sampleid\"          \"TAXA\"             \n",
       "[10] \"supergroup.MAG\"    \"division.MAG\"      \"class.MAG\"        \n",
       "[13] \"order.MAG\"         \"family.MAG\"        \"genus.MAG\"        \n",
       "[16] \"species.MAG\"       \"fullname.MAG\"      \"run_accession.ASV\"\n",
       "[19] \"fullname.ASV\"      \"supergroup.ASV\"    \"division.ASV\"     \n",
       "[22] \"class.ASV\"         \"order.ASV\"         \"family.ASV\"       \n",
       "[25] \"genus.ASV\"         \"species.ASV\"       \"relabun.ASV\"      \n",
       "[28] \"OCCUR\"             \"SEQ\"              "
      ]
     },
     "metadata": {},
     "output_type": "display_data"
    }
   ],
   "source": [
    "colnames(mam_lm)"
   ]
  },
  {
   "cell_type": "code",
   "execution_count": 203,
   "metadata": {},
   "outputs": [],
   "source": [
    "library(ggtext)\n",
    "library(directlabels)\n",
    "# tmp <- mam_lm %>% select(seq, species.ASV) %>% distinct()\n",
    "# seq_order <- as.character(tmp$seq)\n",
    "# name_order <- as.character(tmp$species.ASV)\n",
    "# mam_lm$SEQ <- factor(mam_lm$seq, levels = seq_order, labels = name_order)\n",
    "options(repr.plot.width = 9, repr.plot.height = 5)\n",
    "# mam_lm$SPECIES <- factor(mam_lm$seq, labels = species.ASV)\n",
    "# filter(mam_lm, mag %in% mag_mam) %>% \n",
    "# filter(mam_lm, mag == \"MS-all-DCM-0-8-5-00_bin-320\") %>%\n",
    "plot_lm <- function(df_lm, mag_list){ \n",
    "    # Factor species names\n",
    "    tmp <- df_lm %>% select(seq, species.ASV) %>% distinct()\n",
    "    seq_order <- as.character(tmp$seq)\n",
    "    name_order <- as.character(tmp$species.ASV)\n",
    "    df_lm$SEQ <- factor(df_lm$seq, levels = seq_order, labels = name_order)\n",
    "    # Plot, filter by mag first\n",
    "filter(df_lm, mag %in% mag_list) %>% \n",
    "    unite(MAGNAME, family.MAG, species.MAG, sep = \";\") %>% \n",
    "    unite(ASVUNIQ, species.ASV, seq, sep = \";\", remove = FALSE) %>% \n",
    "    ggplot(aes(x = relabun.ASV, y = relabun.MAG, \n",
    "               group = ASVUNIQ, fill = ASVUNIQ, color = ASVUNIQ)) +\n",
    "    geom_abline(aes(color = ASVUNIQ, intercept = Intercept, slope = Slope)) + #Line from calculated best fit\n",
    "    geom_abline(intercept = 0, slope = 1, alpha = .2, linetype = \"dashed\", size = 1) +  # 1:1 line\n",
    "#     geom_dl(aes(label = round(r.squared, 3)), \n",
    "#             method = list(\"smart.grid\", cex = 0.8)) +\n",
    "    geom_dl(aes(label = round(r.squared, 3), color = ASVUNIQ), \n",
    "            method = list(\"smart.grid\", cex = 1)) +\n",
    "    geom_point(aes(fill = ASVUNIQ), shape = 21, color = \"black\") +\n",
    "    scale_fill_brewer(palette = \"Dark2\") +\n",
    "    scale_color_brewer(palette = \"Dark2\") +\n",
    "#     scale_fill_discrete(name = \"ASVs\", labels = ASVUNIQ) +\n",
    "#     scale_color_discrete(name = \"ASVs\", labels = ASVUNIQ) +\n",
    "#     scale_y_log10() +\n",
    "#     scale_x_log10() +\n",
    "    facet_wrap(. ~ mag + MAGNAME) +\n",
    "    theme_bw() +\n",
    "    theme(axis.text = element_text(color = \"black\", face = \"bold\"),\n",
    "         strip.background = element_blank(),\n",
    "         strip.text = element_text(size = 8, color = \"black\", hjust = 1, vjust = -1),\n",
    "         legend.position = \"right\",\n",
    "          legend.title = element_blank(),\n",
    "         plot.margin = unit(c(1,3,1,1), \"lines\")) +\n",
    "    labs(x = \"MAG relative abundance\", y = \"ASV relative abundance\", \n",
    "         title = \"\") +\n",
    "    guides(fill = guide_legend(override.aes=list(shape=21)), \n",
    "          col = guide_legend(ncol = 1))\n",
    "    }"
   ]
  },
  {
   "cell_type": "code",
   "execution_count": 161,
   "metadata": {},
   "outputs": [
    {
     "data": {
      "image/png": "[encoded data removed]",
      "text/plain": [
       "plot without title"
      ]
     },
     "metadata": {},
     "output_type": "display_data"
    }
   ],
   "source": [
    "mag_example1 <- c(\"NAO-all-DCM-0-8-5-00_bin-131\", \"MS-all-DCM-0-8-5-00_bin-636\", \"SPO-all-DCM-0-8-5-00_bin-35\")\n",
    "plot_lm(mam_lm, mag_example1)"
   ]
  },
  {
   "cell_type": "code",
   "execution_count": 141,
   "metadata": {},
   "outputs": [
    {
     "name": "stderr",
     "output_type": "stream",
     "text": [
      "Scale for 'fill' is already present. Adding another scale for 'fill', which\n",
      "will replace the existing scale.\n"
     ]
    },
    {
     "data": {
      "image/png": "[encoded data removed]",
      "text/plain": [
       "plot without title"
      ]
     },
     "metadata": {},
     "output_type": "display_data"
    }
   ],
   "source": [
    "options(repr.plot.width = 10, repr.plot.height = 5)\n",
    "mag_examples <- c(\"SPO-all-SRF-0-8-5-00_bin-551\", \"MS-all-DCM-0-8-5-00_bin-320\", \"SAO-all-DCM-0-8-5-00_bin-343\")\n",
    "plot_lm(mam_lm, mag_examples)"
   ]
  },
  {
   "cell_type": "code",
   "execution_count": 64,
   "metadata": {},
   "outputs": [],
   "source": [
    "?geom_dl"
   ]
  },
  {
   "cell_type": "code",
   "execution_count": 109,
   "metadata": {},
   "outputs": [],
   "source": [
    "# Dictyochophyceae   - order level\n",
    "dict <- map_ASVtoMAG_bylevel(mag_relab, asv_relab, class, \"Dictyochophyceae\", class, 20)"
   ]
  },
  {
   "cell_type": "code",
   "execution_count": 111,
   "metadata": {},
   "outputs": [
    {
     "name": "stderr",
     "output_type": "stream",
     "text": [
      "Warning message:\n",
      "“All elements of `...` must be named.\n",
      "Did you want `data = c(run_accession.MAG, relabun.MAG, sampleid, TAXA, supergroup.MAG, \n",
      "    division.MAG, class.MAG, order.MAG, family.MAG, genus.MAG, \n",
      "    species.MAG, fullname.MAG, run_accession.ASV, fullname.ASV, \n",
      "    supergroup.ASV, division.ASV, class.ASV, order.ASV, family.ASV, \n",
      "    genus.ASV, species.ASV, relabun.ASV, OCCUR)`?”Warning message:\n",
      "“All elements of `...` must be named.\n",
      "Did you want `data = c(run_accession.MAG, relabun.MAG, sampleid, TAXA, supergroup.MAG, \n",
      "    division.MAG, class.MAG, order.MAG, family.MAG, genus.MAG, \n",
      "    species.MAG, fullname.MAG, run_accession.ASV, fullname.ASV, \n",
      "    supergroup.ASV, division.ASV, class.ASV, order.ASV, family.ASV, \n",
      "    genus.ASV, species.ASV, relabun.ASV, OCCUR)`?”"
     ]
    },
    {
     "name": "stdout",
     "output_type": "stream",
     "text": [
      "0.506042919021986  min of r^2 values\n",
      "0.885725706953743  max of r^2 values\n",
      "4  total MAGs\n",
      "9  total ASVs\n",
      "17  total comparisons that will be plot\n"
     ]
    },
    {
     "data": {
      "text/html": [
       "<table>\n",
       "<thead><tr><th scope=col>mag</th><th scope=col>seq</th><th scope=col>r.squared</th><th scope=col>Intercept</th><th scope=col>Slope</th><th scope=col>run_accession.MAG</th><th scope=col>relabun.MAG</th><th scope=col>sampleid</th><th scope=col>TAXA</th><th scope=col>supergroup.MAG</th><th scope=col>...</th><th scope=col>fullname.ASV</th><th scope=col>supergroup.ASV</th><th scope=col>division.ASV</th><th scope=col>class.ASV</th><th scope=col>order.ASV</th><th scope=col>family.ASV</th><th scope=col>genus.ASV</th><th scope=col>species.ASV</th><th scope=col>relabun.ASV</th><th scope=col>OCCUR</th></tr></thead>\n",
       "<tbody>\n",
       "\t<tr><td>IO-all-SRF-0-8-5-00_bin-80                                                                                                       </td><td>GTCGCACCTACCGATCGAAGGTAATGATGAGCCCTCAGGATGAGTTGACGCTGCCTTCACGGGCGGCACAGCTTAAAATTTGTGCAAATCCTTGCCTTTAGAGGAAGGTGAAGTCGTAACAAGGTTACC</td><td>0.6007218                                                                                                                        </td><td>0.0002876059                                                                                                                     </td><td>0.01059653                                                                                                                       </td><td>ERR599243                                                                                                                        </td><td>8.137083e-05                                                                                                                     </td><td>TARA_068_SRF_180-2000                                                                                                            </td><td>Stramenopiles;Ochrophyta;Dictyochophyceae                                                                                        </td><td>Stramenopiles                                                                                                                    </td><td>...                                                                                                                              </td><td>Stramenopiles;Ochrophyta;Dictyochophyceae;Dictyochophyceae_X;Pedinellales;Pedinellales_X;Pedinellales_X sp.                      </td><td>Stramenopiles                                                                                                                    </td><td>Ochrophyta                                                                                                                       </td><td>Dictyochophyceae                                                                                                                 </td><td>Dictyochophyceae_X                                                                                                               </td><td>Pedinellales                                                                                                                     </td><td>Pedinellales_X                                                                                                                   </td><td>Pedinellales_X sp.                                                                                                               </td><td>0.001538904                                                                                                                      </td><td>43                                                                                                                               </td></tr>\n",
       "\t<tr><td>IO-all-SRF-0-8-5-00_bin-80                                                                                                       </td><td>GTCGCACCTACCGATCGAAGGTAATGATGAGCCCTCAGGATGAGTTGACGCTGCCTTCACGGGCGGCACAGCTTAAAATTTGTGCAAATCCTTGCCTTTAGAGGAAGGTGAAGTCGTAACAAGGTTACC</td><td>0.6007218                                                                                                                        </td><td>0.0002876059                                                                                                                     </td><td>0.01059653                                                                                                                       </td><td>ERR1726829                                                                                                                       </td><td>4.271433e-04                                                                                                                     </td><td>TARA_066_DCM_0.8-5                                                                                                               </td><td>Stramenopiles;Ochrophyta;Dictyochophyceae                                                                                        </td><td>Stramenopiles                                                                                                                    </td><td>...                                                                                                                              </td><td>Stramenopiles;Ochrophyta;Dictyochophyceae;Dictyochophyceae_X;Pedinellales;Pedinellales_X;Pedinellales_X sp.                      </td><td>Stramenopiles                                                                                                                    </td><td>Ochrophyta                                                                                                                       </td><td>Dictyochophyceae                                                                                                                 </td><td>Dictyochophyceae_X                                                                                                               </td><td>Pedinellales                                                                                                                     </td><td>Pedinellales_X                                                                                                                   </td><td>Pedinellales_X sp.                                                                                                               </td><td>0.004917410                                                                                                                      </td><td>43                                                                                                                               </td></tr>\n",
       "</tbody>\n",
       "</table>\n"
      ],
      "text/latex": [
       "\\begin{tabular}{r|llllllllllllllllllllllllllll}\n",
       " mag & seq & r.squared & Intercept & Slope & run\\_accession.MAG & relabun.MAG & sampleid & TAXA & supergroup.MAG & ... & fullname.ASV & supergroup.ASV & division.ASV & class.ASV & order.ASV & family.ASV & genus.ASV & species.ASV & relabun.ASV & OCCUR\\\\\n",
       "\\hline\n",
       "\t IO-all-SRF-0-8-5-00\\_bin-80                                                                                                      & GTCGCACCTACCGATCGAAGGTAATGATGAGCCCTCAGGATGAGTTGACGCTGCCTTCACGGGCGGCACAGCTTAAAATTTGTGCAAATCCTTGCCTTTAGAGGAAGGTGAAGTCGTAACAAGGTTACC & 0.6007218                                                                                                                         & 0.0002876059                                                                                                                      & 0.01059653                                                                                                                        & ERR599243                                                                                                                         & 8.137083e-05                                                                                                                      & TARA\\_068\\_SRF\\_180-2000                                                                                                       & Stramenopiles;Ochrophyta;Dictyochophyceae                                                                                         & Stramenopiles                                                                                                                     & ...                                                                                                                               & Stramenopiles;Ochrophyta;Dictyochophyceae;Dictyochophyceae\\_X;Pedinellales;Pedinellales\\_X;Pedinellales\\_X sp.                 & Stramenopiles                                                                                                                     & Ochrophyta                                                                                                                        & Dictyochophyceae                                                                                                                  & Dictyochophyceae\\_X                                                                                                              & Pedinellales                                                                                                                      & Pedinellales\\_X                                                                                                                  & Pedinellales\\_X sp.                                                                                                              & 0.001538904                                                                                                                       & 43                                                                                                                               \\\\\n",
       "\t IO-all-SRF-0-8-5-00\\_bin-80                                                                                                      & GTCGCACCTACCGATCGAAGGTAATGATGAGCCCTCAGGATGAGTTGACGCTGCCTTCACGGGCGGCACAGCTTAAAATTTGTGCAAATCCTTGCCTTTAGAGGAAGGTGAAGTCGTAACAAGGTTACC & 0.6007218                                                                                                                         & 0.0002876059                                                                                                                      & 0.01059653                                                                                                                        & ERR1726829                                                                                                                        & 4.271433e-04                                                                                                                      & TARA\\_066\\_DCM\\_0.8-5                                                                                                          & Stramenopiles;Ochrophyta;Dictyochophyceae                                                                                         & Stramenopiles                                                                                                                     & ...                                                                                                                               & Stramenopiles;Ochrophyta;Dictyochophyceae;Dictyochophyceae\\_X;Pedinellales;Pedinellales\\_X;Pedinellales\\_X sp.                 & Stramenopiles                                                                                                                     & Ochrophyta                                                                                                                        & Dictyochophyceae                                                                                                                  & Dictyochophyceae\\_X                                                                                                              & Pedinellales                                                                                                                      & Pedinellales\\_X                                                                                                                  & Pedinellales\\_X sp.                                                                                                              & 0.004917410                                                                                                                       & 43                                                                                                                               \\\\\n",
       "\\end{tabular}\n"
      ],
      "text/markdown": [
       "\n",
       "| mag | seq | r.squared | Intercept | Slope | run_accession.MAG | relabun.MAG | sampleid | TAXA | supergroup.MAG | ... | fullname.ASV | supergroup.ASV | division.ASV | class.ASV | order.ASV | family.ASV | genus.ASV | species.ASV | relabun.ASV | OCCUR |\n",
       "|---|---|---|---|---|---|---|---|---|---|---|---|---|---|---|---|---|---|---|---|---|\n",
       "| IO-all-SRF-0-8-5-00_bin-80                                                                                                        | GTCGCACCTACCGATCGAAGGTAATGATGAGCCCTCAGGATGAGTTGACGCTGCCTTCACGGGCGGCACAGCTTAAAATTTGTGCAAATCCTTGCCTTTAGAGGAAGGTGAAGTCGTAACAAGGTTACC | 0.6007218                                                                                                                         | 0.0002876059                                                                                                                      | 0.01059653                                                                                                                        | ERR599243                                                                                                                         | 8.137083e-05                                                                                                                      | TARA_068_SRF_180-2000                                                                                                             | Stramenopiles;Ochrophyta;Dictyochophyceae                                                                                         | Stramenopiles                                                                                                                     | ...                                                                                                                               | Stramenopiles;Ochrophyta;Dictyochophyceae;Dictyochophyceae_X;Pedinellales;Pedinellales_X;Pedinellales_X sp.                       | Stramenopiles                                                                                                                     | Ochrophyta                                                                                                                        | Dictyochophyceae                                                                                                                  | Dictyochophyceae_X                                                                                                                | Pedinellales                                                                                                                      | Pedinellales_X                                                                                                                    | Pedinellales_X sp.                                                                                                                | 0.001538904                                                                                                                       | 43                                                                                                                                |\n",
       "| IO-all-SRF-0-8-5-00_bin-80                                                                                                        | GTCGCACCTACCGATCGAAGGTAATGATGAGCCCTCAGGATGAGTTGACGCTGCCTTCACGGGCGGCACAGCTTAAAATTTGTGCAAATCCTTGCCTTTAGAGGAAGGTGAAGTCGTAACAAGGTTACC | 0.6007218                                                                                                                         | 0.0002876059                                                                                                                      | 0.01059653                                                                                                                        | ERR1726829                                                                                                                        | 4.271433e-04                                                                                                                      | TARA_066_DCM_0.8-5                                                                                                                | Stramenopiles;Ochrophyta;Dictyochophyceae                                                                                         | Stramenopiles                                                                                                                     | ...                                                                                                                               | Stramenopiles;Ochrophyta;Dictyochophyceae;Dictyochophyceae_X;Pedinellales;Pedinellales_X;Pedinellales_X sp.                       | Stramenopiles                                                                                                                     | Ochrophyta                                                                                                                        | Dictyochophyceae                                                                                                                  | Dictyochophyceae_X                                                                                                                | Pedinellales                                                                                                                      | Pedinellales_X                                                                                                                    | Pedinellales_X sp.                                                                                                                | 0.004917410                                                                                                                       | 43                                                                                                                                |\n",
       "\n"
      ],
      "text/plain": [
       "  mag                       \n",
       "1 IO-all-SRF-0-8-5-00_bin-80\n",
       "2 IO-all-SRF-0-8-5-00_bin-80\n",
       "  seq                                                                                                                              \n",
       "1 GTCGCACCTACCGATCGAAGGTAATGATGAGCCCTCAGGATGAGTTGACGCTGCCTTCACGGGCGGCACAGCTTAAAATTTGTGCAAATCCTTGCCTTTAGAGGAAGGTGAAGTCGTAACAAGGTTACC\n",
       "2 GTCGCACCTACCGATCGAAGGTAATGATGAGCCCTCAGGATGAGTTGACGCTGCCTTCACGGGCGGCACAGCTTAAAATTTGTGCAAATCCTTGCCTTTAGAGGAAGGTGAAGTCGTAACAAGGTTACC\n",
       "  r.squared Intercept    Slope      run_accession.MAG relabun.MAG \n",
       "1 0.6007218 0.0002876059 0.01059653 ERR599243         8.137083e-05\n",
       "2 0.6007218 0.0002876059 0.01059653 ERR1726829        4.271433e-04\n",
       "  sampleid              TAXA                                     \n",
       "1 TARA_068_SRF_180-2000 Stramenopiles;Ochrophyta;Dictyochophyceae\n",
       "2 TARA_066_DCM_0.8-5    Stramenopiles;Ochrophyta;Dictyochophyceae\n",
       "  supergroup.MAG ...\n",
       "1 Stramenopiles  ...\n",
       "2 Stramenopiles  ...\n",
       "  fullname.ASV                                                                                               \n",
       "1 Stramenopiles;Ochrophyta;Dictyochophyceae;Dictyochophyceae_X;Pedinellales;Pedinellales_X;Pedinellales_X sp.\n",
       "2 Stramenopiles;Ochrophyta;Dictyochophyceae;Dictyochophyceae_X;Pedinellales;Pedinellales_X;Pedinellales_X sp.\n",
       "  supergroup.ASV division.ASV class.ASV        order.ASV          family.ASV  \n",
       "1 Stramenopiles  Ochrophyta   Dictyochophyceae Dictyochophyceae_X Pedinellales\n",
       "2 Stramenopiles  Ochrophyta   Dictyochophyceae Dictyochophyceae_X Pedinellales\n",
       "  genus.ASV      species.ASV        relabun.ASV OCCUR\n",
       "1 Pedinellales_X Pedinellales_X sp. 0.001538904 43   \n",
       "2 Pedinellales_X Pedinellales_X sp. 0.004917410 43   "
      ]
     },
     "metadata": {},
     "output_type": "display_data"
    },
    {
     "data": {
      "text/html": [
       "<ol class=list-inline>\n",
       "\t<li>17</li>\n",
       "\t<li>6</li>\n",
       "</ol>\n"
      ],
      "text/latex": [
       "\\begin{enumerate*}\n",
       "\\item 17\n",
       "\\item 6\n",
       "\\end{enumerate*}\n"
      ],
      "text/markdown": [
       "1. 17\n",
       "2. 6\n",
       "\n",
       "\n"
      ],
      "text/plain": [
       "[1] 17  6"
      ]
     },
     "metadata": {},
     "output_type": "display_data"
    }
   ],
   "source": [
    "dict_lm <- est_lm(dict, 20, 0.5)\n",
    "head(dict_lm[1:2,])\n",
    "\n",
    "tmp <- dict_lm %>% select(mag, seq, starts_with(\"fullname\"), r.squared, OCCUR) %>% distinct()\n",
    "dim(tmp)\n",
    "write_delim(tmp, path = \"dict_lm.txt\", delim = \"\\t\")"
   ]
  },
  {
   "cell_type": "code",
   "execution_count": 210,
   "metadata": {},
   "outputs": [
    {
     "data": {
      "text/html": [
       "<strong>png:</strong> 2"
      ],
      "text/latex": [
       "\\textbf{png:} 2"
      ],
      "text/markdown": [
       "**png:** 2"
      ],
      "text/plain": [
       "png \n",
       "  2 "
      ]
     },
     "metadata": {},
     "output_type": "display_data"
    }
   ],
   "source": [
    "options(repr.plot.width = 18, repr.plot.height = 5.5)\n",
    "\n",
    "# all <- as.character(unique(dict_lm$mag))\n",
    "svg(\"dict_lm.svg\", w = 18, h = 5.5)\n",
    "# plot_lm(dict_lm, all)\n",
    "# dev.off()\n",
    "plot_lm(dict_lm, \"MS-all-SRF-0-8-5-00_bin-588\")\n",
    "dev.off()"
   ]
  },
  {
   "cell_type": "code",
   "execution_count": 167,
   "metadata": {},
   "outputs": [
    {
     "data": {
      "text/html": [
       "<table>\n",
       "<thead><tr><th scope=col>mag</th><th scope=col>fullname</th></tr></thead>\n",
       "<tbody>\n",
       "\t<tr><td>SAO-all-DCM-0-8-5-00_bin-428          </td><td>Stramenopiles;Ochrophyta;Chrysophyceae</td></tr>\n",
       "\t<tr><td>SPO-CHIL-SRF-0-8-5-00_bin-213         </td><td>Stramenopiles;Ochrophyta;Chrysophyceae</td></tr>\n",
       "\t<tr><td>NPO-all-SRF-0-8-5-00_bin-146          </td><td>Stramenopiles;Ochrophyta;Chrysophyceae</td></tr>\n",
       "\t<tr><td>MS-all-SRF-0-8-5-00_bin-542           </td><td>Stramenopiles;Ochrophyta;Chrysophyceae</td></tr>\n",
       "\t<tr><td>MS-all-SRF-0-8-5-00_bin-251           </td><td>Stramenopiles;Ochrophyta;Chrysophyceae</td></tr>\n",
       "\t<tr><td>SPO-all-SRF-0-8-5-00_bin-1028         </td><td>Stramenopiles;Ochrophyta;Chrysophyceae</td></tr>\n",
       "\t<tr><td>IO-all-SRF-0-8-5-00_bin-548           </td><td>Stramenopiles;Ochrophyta;Chrysophyceae</td></tr>\n",
       "\t<tr><td>SAO-all-SRF-0-8-5-00_bin-34           </td><td>Stramenopiles;Ochrophyta;Chrysophyceae</td></tr>\n",
       "</tbody>\n",
       "</table>\n"
      ],
      "text/latex": [
       "\\begin{tabular}{r|ll}\n",
       " mag & fullname\\\\\n",
       "\\hline\n",
       "\t SAO-all-DCM-0-8-5-00\\_bin-428         & Stramenopiles;Ochrophyta;Chrysophyceae\\\\\n",
       "\t SPO-CHIL-SRF-0-8-5-00\\_bin-213        & Stramenopiles;Ochrophyta;Chrysophyceae\\\\\n",
       "\t NPO-all-SRF-0-8-5-00\\_bin-146         & Stramenopiles;Ochrophyta;Chrysophyceae\\\\\n",
       "\t MS-all-SRF-0-8-5-00\\_bin-542          & Stramenopiles;Ochrophyta;Chrysophyceae\\\\\n",
       "\t MS-all-SRF-0-8-5-00\\_bin-251          & Stramenopiles;Ochrophyta;Chrysophyceae\\\\\n",
       "\t SPO-all-SRF-0-8-5-00\\_bin-1028        & Stramenopiles;Ochrophyta;Chrysophyceae\\\\\n",
       "\t IO-all-SRF-0-8-5-00\\_bin-548          & Stramenopiles;Ochrophyta;Chrysophyceae\\\\\n",
       "\t SAO-all-SRF-0-8-5-00\\_bin-34          & Stramenopiles;Ochrophyta;Chrysophyceae\\\\\n",
       "\\end{tabular}\n"
      ],
      "text/markdown": [
       "\n",
       "| mag | fullname |\n",
       "|---|---|\n",
       "| SAO-all-DCM-0-8-5-00_bin-428           | Stramenopiles;Ochrophyta;Chrysophyceae |\n",
       "| SPO-CHIL-SRF-0-8-5-00_bin-213          | Stramenopiles;Ochrophyta;Chrysophyceae |\n",
       "| NPO-all-SRF-0-8-5-00_bin-146           | Stramenopiles;Ochrophyta;Chrysophyceae |\n",
       "| MS-all-SRF-0-8-5-00_bin-542            | Stramenopiles;Ochrophyta;Chrysophyceae |\n",
       "| MS-all-SRF-0-8-5-00_bin-251            | Stramenopiles;Ochrophyta;Chrysophyceae |\n",
       "| SPO-all-SRF-0-8-5-00_bin-1028          | Stramenopiles;Ochrophyta;Chrysophyceae |\n",
       "| IO-all-SRF-0-8-5-00_bin-548            | Stramenopiles;Ochrophyta;Chrysophyceae |\n",
       "| SAO-all-SRF-0-8-5-00_bin-34            | Stramenopiles;Ochrophyta;Chrysophyceae |\n",
       "\n"
      ],
      "text/plain": [
       "  mag                           fullname                              \n",
       "1 SAO-all-DCM-0-8-5-00_bin-428  Stramenopiles;Ochrophyta;Chrysophyceae\n",
       "2 SPO-CHIL-SRF-0-8-5-00_bin-213 Stramenopiles;Ochrophyta;Chrysophyceae\n",
       "3 NPO-all-SRF-0-8-5-00_bin-146  Stramenopiles;Ochrophyta;Chrysophyceae\n",
       "4 MS-all-SRF-0-8-5-00_bin-542   Stramenopiles;Ochrophyta;Chrysophyceae\n",
       "5 MS-all-SRF-0-8-5-00_bin-251   Stramenopiles;Ochrophyta;Chrysophyceae\n",
       "6 SPO-all-SRF-0-8-5-00_bin-1028 Stramenopiles;Ochrophyta;Chrysophyceae\n",
       "7 IO-all-SRF-0-8-5-00_bin-548   Stramenopiles;Ochrophyta;Chrysophyceae\n",
       "8 SAO-all-SRF-0-8-5-00_bin-34   Stramenopiles;Ochrophyta;Chrysophyceae"
      ]
     },
     "metadata": {},
     "output_type": "display_data"
    }
   ],
   "source": [
    "mag_relab %>% filter(class == \"Chrysophyceae\") %>% select(mag, fullname) %>% distinct()"
   ]
  },
  {
   "cell_type": "code",
   "execution_count": 169,
   "metadata": {},
   "outputs": [
    {
     "name": "stderr",
     "output_type": "stream",
     "text": [
      "Warning message:\n",
      "“All elements of `...` must be named.\n",
      "Did you want `data = c(run_accession.MAG, relabun.MAG, sampleid, TAXA, supergroup.MAG, \n",
      "    division.MAG, class.MAG, order.MAG, family.MAG, genus.MAG, \n",
      "    species.MAG, fullname.MAG, run_accession.ASV, fullname.ASV, \n",
      "    supergroup.ASV, division.ASV, class.ASV, order.ASV, family.ASV, \n",
      "    genus.ASV, species.ASV, relabun.ASV, OCCUR)`?”Warning message:\n",
      "“All elements of `...` must be named.\n",
      "Did you want `data = c(run_accession.MAG, relabun.MAG, sampleid, TAXA, supergroup.MAG, \n",
      "    division.MAG, class.MAG, order.MAG, family.MAG, genus.MAG, \n",
      "    species.MAG, fullname.MAG, run_accession.ASV, fullname.ASV, \n",
      "    supergroup.ASV, division.ASV, class.ASV, order.ASV, family.ASV, \n",
      "    genus.ASV, species.ASV, relabun.ASV, OCCUR)`?”"
     ]
    },
    {
     "name": "stdout",
     "output_type": "stream",
     "text": [
      "0.510816545468671  min of r^2 values\n",
      "0.966600864655771  max of r^2 values\n",
      "8  total MAGs\n",
      "11  total ASVs\n",
      "38  total comparisons that will be plot\n"
     ]
    },
    {
     "data": {
      "text/html": [
       "<table>\n",
       "<thead><tr><th scope=col>mag</th><th scope=col>seq</th><th scope=col>r.squared</th><th scope=col>Intercept</th><th scope=col>Slope</th><th scope=col>run_accession.MAG</th><th scope=col>relabun.MAG</th><th scope=col>sampleid</th><th scope=col>TAXA</th><th scope=col>supergroup.MAG</th><th scope=col>...</th><th scope=col>fullname.ASV</th><th scope=col>supergroup.ASV</th><th scope=col>division.ASV</th><th scope=col>class.ASV</th><th scope=col>order.ASV</th><th scope=col>family.ASV</th><th scope=col>genus.ASV</th><th scope=col>species.ASV</th><th scope=col>relabun.ASV</th><th scope=col>OCCUR</th></tr></thead>\n",
       "<tbody>\n",
       "\t<tr><td>SAO-all-DCM-0-8-5-00_bin-428                                                                                                      </td><td>GTCGCACCTACCGATTGAATGTCTCGGTGAAATCCCCGGACTATCGCTTAGAGACCCTCGGGTCCCTTCGCAGTGGGAAGCGGATTAAACCTCGATATTTAGAGGAAGGTGAAGTCGTAACAAGGTCTCC</td><td>0.5582446                                                                                                                         </td><td>0.000767612                                                                                                                       </td><td>0.02078699                                                                                                                        </td><td>ERR1726574                                                                                                                        </td><td>0.0002824946                                                                                                                      </td><td>TARA_026_SRF_180-2000                                                                                                             </td><td>Stramenopiles;Ochrophyta;Chrysophyceae                                                                                            </td><td>Stramenopiles                                                                                                                     </td><td>...                                                                                                                               </td><td>Stramenopiles;Ochrophyta;Chrysophyceae;Chrysophyceae_X                                                                            </td><td>Stramenopiles                                                                                                                     </td><td>Ochrophyta                                                                                                                        </td><td>Chrysophyceae                                                                                                                     </td><td>Chrysophyceae_X                                                                                                                   </td><td>NA                                                                                                                                </td><td>NA                                                                                                                                </td><td>NA                                                                                                                                </td><td>0.0003547038                                                                                                                      </td><td>32                                                                                                                                </td></tr>\n",
       "\t<tr><td>SAO-all-DCM-0-8-5-00_bin-428                                                                                                      </td><td>GTCGCACCTACCGATTGAATGTCTCGGTGAAATCCCCGGACTATCGCTTAGAGACCCTCGGGTCCCTTCGCAGTGGGAAGCGGATTAAACCTCGATATTTAGAGGAAGGTGAAGTCGTAACAAGGTCTCC</td><td>0.5582446                                                                                                                         </td><td>0.000767612                                                                                                                       </td><td>0.02078699                                                                                                                        </td><td>ERR1726868                                                                                                                        </td><td>0.0006374798                                                                                                                      </td><td>TARA_038_DCM_180-2000                                                                                                             </td><td>Stramenopiles;Ochrophyta;Chrysophyceae                                                                                            </td><td>Stramenopiles                                                                                                                     </td><td>...                                                                                                                               </td><td>Stramenopiles;Ochrophyta;Chrysophyceae;Chrysophyceae_X                                                                            </td><td>Stramenopiles                                                                                                                     </td><td>Ochrophyta                                                                                                                        </td><td>Chrysophyceae                                                                                                                     </td><td>Chrysophyceae_X                                                                                                                   </td><td>NA                                                                                                                                </td><td>NA                                                                                                                                </td><td>NA                                                                                                                                </td><td>0.0004352014                                                                                                                      </td><td>32                                                                                                                                </td></tr>\n",
       "</tbody>\n",
       "</table>\n"
      ],
      "text/latex": [
       "\\begin{tabular}{r|llllllllllllllllllllllllllll}\n",
       " mag & seq & r.squared & Intercept & Slope & run\\_accession.MAG & relabun.MAG & sampleid & TAXA & supergroup.MAG & ... & fullname.ASV & supergroup.ASV & division.ASV & class.ASV & order.ASV & family.ASV & genus.ASV & species.ASV & relabun.ASV & OCCUR\\\\\n",
       "\\hline\n",
       "\t SAO-all-DCM-0-8-5-00\\_bin-428                                                                                                     & GTCGCACCTACCGATTGAATGTCTCGGTGAAATCCCCGGACTATCGCTTAGAGACCCTCGGGTCCCTTCGCAGTGGGAAGCGGATTAAACCTCGATATTTAGAGGAAGGTGAAGTCGTAACAAGGTCTCC & 0.5582446                                                                                                                          & 0.000767612                                                                                                                        & 0.02078699                                                                                                                         & ERR1726574                                                                                                                         & 0.0002824946                                                                                                                       & TARA\\_026\\_SRF\\_180-2000                                                                                                        & Stramenopiles;Ochrophyta;Chrysophyceae                                                                                             & Stramenopiles                                                                                                                      & ...                                                                                                                                & Stramenopiles;Ochrophyta;Chrysophyceae;Chrysophyceae\\_X                                                                           & Stramenopiles                                                                                                                      & Ochrophyta                                                                                                                         & Chrysophyceae                                                                                                                      & Chrysophyceae\\_X                                                                                                                  & NA                                                                                                                                 & NA                                                                                                                                 & NA                                                                                                                                 & 0.0003547038                                                                                                                       & 32                                                                                                                                \\\\\n",
       "\t SAO-all-DCM-0-8-5-00\\_bin-428                                                                                                     & GTCGCACCTACCGATTGAATGTCTCGGTGAAATCCCCGGACTATCGCTTAGAGACCCTCGGGTCCCTTCGCAGTGGGAAGCGGATTAAACCTCGATATTTAGAGGAAGGTGAAGTCGTAACAAGGTCTCC & 0.5582446                                                                                                                          & 0.000767612                                                                                                                        & 0.02078699                                                                                                                         & ERR1726868                                                                                                                         & 0.0006374798                                                                                                                       & TARA\\_038\\_DCM\\_180-2000                                                                                                        & Stramenopiles;Ochrophyta;Chrysophyceae                                                                                             & Stramenopiles                                                                                                                      & ...                                                                                                                                & Stramenopiles;Ochrophyta;Chrysophyceae;Chrysophyceae\\_X                                                                           & Stramenopiles                                                                                                                      & Ochrophyta                                                                                                                         & Chrysophyceae                                                                                                                      & Chrysophyceae\\_X                                                                                                                  & NA                                                                                                                                 & NA                                                                                                                                 & NA                                                                                                                                 & 0.0004352014                                                                                                                       & 32                                                                                                                                \\\\\n",
       "\\end{tabular}\n"
      ],
      "text/markdown": [
       "\n",
       "| mag | seq | r.squared | Intercept | Slope | run_accession.MAG | relabun.MAG | sampleid | TAXA | supergroup.MAG | ... | fullname.ASV | supergroup.ASV | division.ASV | class.ASV | order.ASV | family.ASV | genus.ASV | species.ASV | relabun.ASV | OCCUR |\n",
       "|---|---|---|---|---|---|---|---|---|---|---|---|---|---|---|---|---|---|---|---|---|\n",
       "| SAO-all-DCM-0-8-5-00_bin-428                                                                                                       | GTCGCACCTACCGATTGAATGTCTCGGTGAAATCCCCGGACTATCGCTTAGAGACCCTCGGGTCCCTTCGCAGTGGGAAGCGGATTAAACCTCGATATTTAGAGGAAGGTGAAGTCGTAACAAGGTCTCC | 0.5582446                                                                                                                          | 0.000767612                                                                                                                        | 0.02078699                                                                                                                         | ERR1726574                                                                                                                         | 0.0002824946                                                                                                                       | TARA_026_SRF_180-2000                                                                                                              | Stramenopiles;Ochrophyta;Chrysophyceae                                                                                             | Stramenopiles                                                                                                                      | ...                                                                                                                                | Stramenopiles;Ochrophyta;Chrysophyceae;Chrysophyceae_X                                                                             | Stramenopiles                                                                                                                      | Ochrophyta                                                                                                                         | Chrysophyceae                                                                                                                      | Chrysophyceae_X                                                                                                                    | NA                                                                                                                                 | NA                                                                                                                                 | NA                                                                                                                                 | 0.0003547038                                                                                                                       | 32                                                                                                                                 |\n",
       "| SAO-all-DCM-0-8-5-00_bin-428                                                                                                       | GTCGCACCTACCGATTGAATGTCTCGGTGAAATCCCCGGACTATCGCTTAGAGACCCTCGGGTCCCTTCGCAGTGGGAAGCGGATTAAACCTCGATATTTAGAGGAAGGTGAAGTCGTAACAAGGTCTCC | 0.5582446                                                                                                                          | 0.000767612                                                                                                                        | 0.02078699                                                                                                                         | ERR1726868                                                                                                                         | 0.0006374798                                                                                                                       | TARA_038_DCM_180-2000                                                                                                              | Stramenopiles;Ochrophyta;Chrysophyceae                                                                                             | Stramenopiles                                                                                                                      | ...                                                                                                                                | Stramenopiles;Ochrophyta;Chrysophyceae;Chrysophyceae_X                                                                             | Stramenopiles                                                                                                                      | Ochrophyta                                                                                                                         | Chrysophyceae                                                                                                                      | Chrysophyceae_X                                                                                                                    | NA                                                                                                                                 | NA                                                                                                                                 | NA                                                                                                                                 | 0.0004352014                                                                                                                       | 32                                                                                                                                 |\n",
       "\n"
      ],
      "text/plain": [
       "  mag                         \n",
       "1 SAO-all-DCM-0-8-5-00_bin-428\n",
       "2 SAO-all-DCM-0-8-5-00_bin-428\n",
       "  seq                                                                                                                               \n",
       "1 GTCGCACCTACCGATTGAATGTCTCGGTGAAATCCCCGGACTATCGCTTAGAGACCCTCGGGTCCCTTCGCAGTGGGAAGCGGATTAAACCTCGATATTTAGAGGAAGGTGAAGTCGTAACAAGGTCTCC\n",
       "2 GTCGCACCTACCGATTGAATGTCTCGGTGAAATCCCCGGACTATCGCTTAGAGACCCTCGGGTCCCTTCGCAGTGGGAAGCGGATTAAACCTCGATATTTAGAGGAAGGTGAAGTCGTAACAAGGTCTCC\n",
       "  r.squared Intercept   Slope      run_accession.MAG relabun.MAG \n",
       "1 0.5582446 0.000767612 0.02078699 ERR1726574        0.0002824946\n",
       "2 0.5582446 0.000767612 0.02078699 ERR1726868        0.0006374798\n",
       "  sampleid              TAXA                                   supergroup.MAG\n",
       "1 TARA_026_SRF_180-2000 Stramenopiles;Ochrophyta;Chrysophyceae Stramenopiles \n",
       "2 TARA_038_DCM_180-2000 Stramenopiles;Ochrophyta;Chrysophyceae Stramenopiles \n",
       "  ... fullname.ASV                                           supergroup.ASV\n",
       "1 ... Stramenopiles;Ochrophyta;Chrysophyceae;Chrysophyceae_X Stramenopiles \n",
       "2 ... Stramenopiles;Ochrophyta;Chrysophyceae;Chrysophyceae_X Stramenopiles \n",
       "  division.ASV class.ASV     order.ASV       family.ASV genus.ASV species.ASV\n",
       "1 Ochrophyta   Chrysophyceae Chrysophyceae_X NA         NA        NA         \n",
       "2 Ochrophyta   Chrysophyceae Chrysophyceae_X NA         NA        NA         \n",
       "  relabun.ASV  OCCUR\n",
       "1 0.0003547038 32   \n",
       "2 0.0004352014 32   "
      ]
     },
     "metadata": {},
     "output_type": "display_data"
    },
    {
     "data": {
      "text/html": [
       "<ol class=list-inline>\n",
       "\t<li>38</li>\n",
       "\t<li>6</li>\n",
       "</ol>\n"
      ],
      "text/latex": [
       "\\begin{enumerate*}\n",
       "\\item 38\n",
       "\\item 6\n",
       "\\end{enumerate*}\n"
      ],
      "text/markdown": [
       "1. 38\n",
       "2. 6\n",
       "\n",
       "\n"
      ],
      "text/plain": [
       "[1] 38  6"
      ]
     },
     "metadata": {},
     "output_type": "display_data"
    }
   ],
   "source": [
    "# Dictyochophyceae   - order level\n",
    "chrys <- map_ASVtoMAG_bylevel(mag_relab, asv_relab, class, \"Chrysophyceae\", class, 20)\n",
    "chrys_lm <- est_lm(chrys, 20, 0.5)\n",
    "head(chrys_lm[1:2,])\n",
    "\n",
    "tmp <- chrys_lm %>% select(mag, seq, starts_with(\"fullname\"), r.squared, OCCUR) %>% distinct()\n",
    "dim(tmp)\n",
    "write_delim(tmp, path = \"chrys_lm.txt\", delim = \"\\t\")"
   ]
  },
  {
   "cell_type": "code",
   "execution_count": 171,
   "metadata": {},
   "outputs": [
    {
     "data": {
      "text/html": [
       "<strong>png:</strong> 2"
      ],
      "text/latex": [
       "\\textbf{png:} 2"
      ],
      "text/markdown": [
       "**png:** 2"
      ],
      "text/plain": [
       "png \n",
       "  2 "
      ]
     },
     "metadata": {},
     "output_type": "display_data"
    }
   ],
   "source": [
    "options(repr.plot.width = 20, repr.plot.height = 6)\n",
    "\n",
    "all <- as.character(unique(chrys_lm$mag))\n",
    "svg(\"chrys_lm.svg\", w = 20, h = 8)\n",
    "plot_lm(chrys_lm, all)\n",
    "dev.off()"
   ]
  },
  {
   "cell_type": "code",
   "execution_count": 175,
   "metadata": {},
   "outputs": [
    {
     "data": {
      "text/html": [
       "<strong>png:</strong> 2"
      ],
      "text/latex": [
       "\\textbf{png:} 2"
      ],
      "text/markdown": [
       "**png:** 2"
      ],
      "text/plain": [
       "png \n",
       "  2 "
      ]
     },
     "metadata": {},
     "output_type": "display_data"
    }
   ],
   "source": [
    "options(repr.plot.width = 20, repr.plot.height = 7)\n",
    "svg(\"chrys_magexample.svg\", w = 20, h = 7)\n",
    "plot_lm(chrys_lm, \"IO-all-SRF-0-8-5-00_bin-548\")\n",
    "dev.off()"
   ]
  },
  {
   "cell_type": "code",
   "execution_count": null,
   "metadata": {},
   "outputs": [],
   "source": [
    "## Run above function together. Outputs stats about how many plots would be created in next step\n",
    "ostreo <- map_ASVtoMAG_bylevel(mag_relab, asv_relab, genus, \"Ostreococcus\", 15)\n",
    "ostreo_lm <- lm_generate(ostreo, 0.5)\n",
    "head(ostreo_lm[1:3,])\n",
    "bestfit_lm(ostreo_lm, 50, \"Ostreococcus-bestfit.txt\")"
   ]
  },
  {
   "cell_type": "code",
   "execution_count": null,
   "metadata": {},
   "outputs": [],
   "source": [
    "options(repr.plot.width = 12, repr.plot.height = 12)\n",
    "plot_lm_results(ostreo_lm, \"Ostreococcus\")\n",
    "# plot_lm_results(filter(ostreo_lm, mag == \"NAO-all-DCM-0-8-5-00_bin-171\"), \"Ostreococcus\")"
   ]
  },
  {
   "cell_type": "code",
   "execution_count": null,
   "metadata": {},
   "outputs": [],
   "source": [
    "dictyo <- map_ASVtoMAG_bylevel(mag_relab, asv_relab, order, \"Dictyochophyceae_X\", 10)\n",
    "dictyo_lm <- lm_generate(dictyo, 0.5)"
   ]
  },
  {
   "cell_type": "code",
   "execution_count": null,
   "metadata": {},
   "outputs": [],
   "source": [
    "options(repr.plot.width = 12, repr.plot.height = 18) #set plot size output \n",
    "plot_lm_results(dictyo_lm, \"Dictyochophyceae\")"
   ]
  },
  {
   "cell_type": "code",
   "execution_count": null,
   "metadata": {},
   "outputs": [],
   "source": [
    "prym <- map_ASVtoMAG_bylevel(mag_relab, asv_relab, order, \"Prymnesiales\", 10)\n",
    "prym_lm <- lm_generate(prym, 0.5)"
   ]
  },
  {
   "cell_type": "code",
   "execution_count": null,
   "metadata": {},
   "outputs": [],
   "source": [
    "options(repr.plot.width = 12, repr.plot.height = 18)\n",
    "plot_lm_results(prym_lm, \"Prymnesiales\")"
   ]
  },
  {
   "cell_type": "code",
   "execution_count": null,
   "metadata": {},
   "outputs": [],
   "source": [
    "# Calculate bestfir for Chlorophyta division\n",
    "chloro <- map_ASVtoMAG_bylevel(mag_relab, asv_relab, division, \"Chlorophyta\", 50)\n",
    "chloro_lm <-lm_generate(chloro, 0.6)\n",
    "bestfit_lm(chloro_lm, 75, \"Chlorophyta-bestfit.txt\")\n",
    "\n",
    "# Calculate bestfir for Haptophyta division\n",
    "hap <- map_ASVtoMAG_bylevel(mag_relab, asv_relab, division, \"Haptophyta\", 50)\n",
    "hap_lm <-lm_generate(hap, 0.6)\n",
    "bestfit_lm(hap_lm, 75, \"Haptophyta-bestfit.txt\")\n",
    "\n",
    "# Calculate bestfir for Cryptophyta division\n",
    "crypt <- map_ASVtoMAG_bylevel(mag_relab, asv_relab, division, \"Cryptophyta\", 50)\n",
    "hap_lm <-lm_generate(hap, 0.6)\n",
    "bestfit_lm(hap_lm, 75, \"Cryptophyta-bestfit.txt\")"
   ]
  },
  {
   "cell_type": "code",
   "execution_count": null,
   "metadata": {},
   "outputs": [],
   "source": []
  },
  {
   "cell_type": "markdown",
   "metadata": {},
   "source": [
    "## Working versions to run function in parallel"
   ]
  },
  {
   "cell_type": "code",
   "execution_count": null,
   "metadata": {},
   "outputs": [],
   "source": [
    "library(multidplyr)"
   ]
  },
  {
   "cell_type": "code",
   "execution_count": 48,
   "metadata": {},
   "outputs": [
    {
     "data": {
      "text/html": [
       "36"
      ],
      "text/latex": [
       "36"
      ],
      "text/markdown": [
       "36"
      ],
      "text/plain": [
       "[1] 36"
      ]
     },
     "metadata": {},
     "output_type": "display_data"
    }
   ],
   "source": [
    "library(parallel)\n",
    "detectCores()"
   ]
  },
  {
   "cell_type": "code",
   "execution_count": 84,
   "metadata": {},
   "outputs": [],
   "source": [
    "#\n",
    "# Partition data\n",
    "#\n",
    "# library(parallel); library(tidyverse); library(multidplyr)\n",
    "#\n",
    "#\n",
    "map_ASVtoMAG_party <- function(mag_df, asv_df, level, freq){\n",
    "    level <- enquo(level)\n",
    "    cluster <- new_cluster(detectCores()[1])\n",
    "    writeLines(paste(\"Using\", detectCores()[1], \"cores\"))\n",
    "     # Generate TAXA column to group input data, partition to run on cluster\n",
    "    out <- mag_df %>% \n",
    "    unite(TAXA, supergroup:!!level, remove = TRUE, sep =\";\") %>% \n",
    "    group_by(TAXA) %>% \n",
    "    filter(!is.na(run_accession)) %>% \n",
    "    data.frame\n",
    "    taxa_grab <- as.character(unique(out$TAXA))\n",
    "    for(a in taxa_grab){\n",
    "        tmp <- out %>% filter(TAXA == i) %>%\n",
    "            left_join(unite(asv_df, TAXA, supergroup:!!level, remove = TRUE, sep =\";\"), \n",
    "              by = c(\"TAXA\"=\"TAXA\", \"sampleid\" = \"sampleid\"), suffix = c(\".MAG\", \".ASV\")) %>% \n",
    "        group_by(mag, seq) %>% \n",
    "        mutate(OCCUR = n()) %>% \n",
    "        filter(OCCUR > freq) %>% \n",
    "        data.frame\n",
    "        name <- paste(\"df_joined\", a)\n",
    "    }\n",
    "#     partition(cluster)\n",
    "#     # Columns that are repeated from each data will be affixed with .MAG or .ASV\n",
    "#     out2 <- left_join(out, unite(asv_df, TAXA, supergroup:!!level, remove = TRUE, sep =\";\"), \n",
    "#               by = c(\"TAXA\"=\"TAXA\", \"sampleid\" = \"sampleid\"), suffix = c(\".MAG\", \".ASV\")) %>%\n",
    "#     group_by(mag, seq) %>% \n",
    "#     mutate(OCCUR = n()) %>% # Count occurences of matching for each mag-seq pair (number of Tara ocean samples that have both an ASV and MAG that we can compare)\n",
    "#     filter(OCCUR > freq)\n",
    "#     return(out2)\n",
    "    }"
   ]
  },
  {
   "cell_type": "code",
   "execution_count": 85,
   "metadata": {},
   "outputs": [
    {
     "name": "stdout",
     "output_type": "stream",
     "text": [
      "Using 36 cores\n",
      "done with Archaeplastida;Chlorophyta;Mamiellophyceae;Mamiellales\n"
     ]
    }
   ],
   "source": [
    "# tmp_part <- map_ASVtoMAG_party(mag_relab, asv_relab, order, 50)\n",
    "tmp_part <- map_ASVtoMAG_party(mag_sub, asv_sub, order, 50)"
   ]
  },
  {
   "cell_type": "code",
   "execution_count": null,
   "metadata": {},
   "outputs": [],
   "source": []
  },
  {
   "cell_type": "markdown",
   "metadata": {},
   "source": [
    "EXCESS"
   ]
  },
  {
   "cell_type": "code",
   "execution_count": 11,
   "metadata": {},
   "outputs": [],
   "source": [
    "#     do({lm.fit = lm(relabun.MAG ~ relabun.ASV, data = .)\n",
    "#         data.frame(tidy(lm.fit), glance(lm.fit))}) %>% \n",
    "#     select(mag, seq, r.squared, p.value, term, estimate) %>% \n",
    "#     spread(term, estimate) %>% \n",
    "#     select(everything(), -`(Intercept)`, slope = relabun.ASV) %>% \n",
    "#     # Remove negative slope\n",
    "#     filter(slope > 0) %>% \n",
    "#     # For each mag, select highest r.squared value\n",
    "#     group_by(mag) %>%\n",
    "#     arrange(desc(r.squared)) %>% \n",
    "#     slice(1) %>% \n",
    "    #\n",
    "#     # Add in sample information associated with all instances\n",
    "#     # Add in original mag-desigated taxa, sample info and relative abundance\n",
    "#     right_join(select(mag_df, mag, sampleid, fullname, relabun), by = c(\"mag\" = \"mag\")) %>% \n",
    "#     # Add in original asv-designated taxa information, sample info, and relative abundance\n",
    "#     left_join(select(asv_df, seq, sampleid, fullname, relabun), by = c(\"seq\" = \"seq\", \"sampleid\" = \"sampleid\"), suffix = c(\".MAG\", \".ASV\")) %>% \n",
    "#     filter(!is.na(fullname.ASV) & !is.na(sampleid)) %>% \n",
    "    #\n",
    "  ### Add in full taxonomic IDs to compare original MAG and ASV designations\n",
    "    # Add in original mag-desigated taxa\n",
    "#     right_join(select(mag_df, mag, fullname) %>% distinct(), by = c(\"mag\" = \"mag\")) %>% \n",
    "#     # Add in original asv-designated taxa information\n",
    "#     left_join(select(asv_df, seq, fullname) %>% distinct(), by = c(\"seq\" = \"seq\"), suffix = c(\".MAG\", \".ASV\"))  %>% \n",
    "#     data.frame\n",
    "# #     write_delim(out, path = filename, delim = \"\\t\")\n",
    "#     }\n",
    "# # write_delim(map_ASVtoMAG_runlm(mag_relab, asv_relab, class, 50), path = \"bestfit-27-07-2020.txt\", delim = \"\\t\")\n",
    "# Keep: mag or seq, sampleid, fullname, relabun"
   ]
  },
  {
   "cell_type": "code",
   "execution_count": 189,
   "metadata": {},
   "outputs": [
    {
     "data": {
      "text/html": [
       "<ol class=list-inline>\n",
       "\t<li>&lt;NA&gt;</li>\n",
       "\t<li>Bacillariophyta_X</li>\n",
       "\t<li>-</li>\n",
       "\t<li>Mamiellales</li>\n",
       "\t<li>Prasinococcales</li>\n",
       "\t<li>Chloropicales</li>\n",
       "\t<li>Dictyochophyceae_X</li>\n",
       "\t<li>Prymnesiales</li>\n",
       "\t<li>Cryptomonadales</li>\n",
       "\t<li>Parmales</li>\n",
       "\t<li>Pseudoscourfieldiales</li>\n",
       "\t<li>Pelagomonadales</li>\n",
       "\t<li>Saccharomycotina</li>\n",
       "</ol>\n",
       "\n",
       "<details>\n",
       "\t<summary style=display:list-item;cursor:pointer>\n",
       "\t\t<strong>Levels</strong>:\n",
       "\t</summary>\n",
       "\t<ol class=list-inline>\n",
       "\t\t<li>'-'</li>\n",
       "\t\t<li>'Bacillariophyta_X'</li>\n",
       "\t\t<li>'Chloropicales'</li>\n",
       "\t\t<li>'Cryptomonadales'</li>\n",
       "\t\t<li>'Dictyochophyceae_X'</li>\n",
       "\t\t<li>'Mamiellales'</li>\n",
       "\t\t<li>'Parmales'</li>\n",
       "\t\t<li>'Pelagomonadales'</li>\n",
       "\t\t<li>'Prasinococcales'</li>\n",
       "\t\t<li>'Prymnesiales'</li>\n",
       "\t\t<li>'Pseudoscourfieldiales'</li>\n",
       "\t\t<li>'Saccharomycotina'</li>\n",
       "\t</ol>\n",
       "</details>"
      ],
      "text/latex": [
       "\\begin{enumerate*}\n",
       "\\item <NA>\n",
       "\\item Bacillariophyta\\_X\n",
       "\\item -\n",
       "\\item Mamiellales\n",
       "\\item Prasinococcales\n",
       "\\item Chloropicales\n",
       "\\item Dictyochophyceae\\_X\n",
       "\\item Prymnesiales\n",
       "\\item Cryptomonadales\n",
       "\\item Parmales\n",
       "\\item Pseudoscourfieldiales\n",
       "\\item Pelagomonadales\n",
       "\\item Saccharomycotina\n",
       "\\end{enumerate*}\n",
       "\n",
       "\\emph{Levels}: \\begin{enumerate*}\n",
       "\\item '-'\n",
       "\\item 'Bacillariophyta\\_X'\n",
       "\\item 'Chloropicales'\n",
       "\\item 'Cryptomonadales'\n",
       "\\item 'Dictyochophyceae\\_X'\n",
       "\\item 'Mamiellales'\n",
       "\\item 'Parmales'\n",
       "\\item 'Pelagomonadales'\n",
       "\\item 'Prasinococcales'\n",
       "\\item 'Prymnesiales'\n",
       "\\item 'Pseudoscourfieldiales'\n",
       "\\item 'Saccharomycotina'\n",
       "\\end{enumerate*}\n"
      ],
      "text/markdown": [
       "1. &lt;NA&gt;\n",
       "2. Bacillariophyta_X\n",
       "3. -\n",
       "4. Mamiellales\n",
       "5. Prasinococcales\n",
       "6. Chloropicales\n",
       "7. Dictyochophyceae_X\n",
       "8. Prymnesiales\n",
       "9. Cryptomonadales\n",
       "10. Parmales\n",
       "11. Pseudoscourfieldiales\n",
       "12. Pelagomonadales\n",
       "13. Saccharomycotina\n",
       "\n",
       "\n",
       "\n",
       "**Levels**: 1. '-'\n",
       "2. 'Bacillariophyta_X'\n",
       "3. 'Chloropicales'\n",
       "4. 'Cryptomonadales'\n",
       "5. 'Dictyochophyceae_X'\n",
       "6. 'Mamiellales'\n",
       "7. 'Parmales'\n",
       "8. 'Pelagomonadales'\n",
       "9. 'Prasinococcales'\n",
       "10. 'Prymnesiales'\n",
       "11. 'Pseudoscourfieldiales'\n",
       "12. 'Saccharomycotina'\n",
       "\n",
       "\n"
      ],
      "text/plain": [
       " [1] <NA>                  Bacillariophyta_X     -                    \n",
       " [4] Mamiellales           Prasinococcales       Chloropicales        \n",
       " [7] Dictyochophyceae_X    Prymnesiales          Cryptomonadales      \n",
       "[10] Parmales              Pseudoscourfieldiales Pelagomonadales      \n",
       "[13] Saccharomycotina     \n",
       "12 Levels: - Bacillariophyta_X Chloropicales ... Saccharomycotina"
      ]
     },
     "metadata": {},
     "output_type": "display_data"
    }
   ],
   "source": [
    "unique(mag_relab$order)"
   ]
  },
  {
   "cell_type": "code",
   "execution_count": 199,
   "metadata": {},
   "outputs": [
    {
     "name": "stderr",
     "output_type": "stream",
     "text": [
      "`summarise()` regrouping output by 'CLASS' (override with `.groups` argument)\n"
     ]
    },
    {
     "data": {
      "text/html": [
       "<table>\n",
       "<thead><tr><th scope=col>CLASS</th><th scope=col>name</th><th scope=col>SUM</th></tr></thead>\n",
       "<tbody>\n",
       "\t<tr><td>Archaeplastida;Chlorophyta;-                </td><td>CLASS_SUM                                   </td><td> 647467.5                                   </td></tr>\n",
       "\t<tr><td>Archaeplastida;Chlorophyta;-                </td><td>FAMILY                                      </td><td>      0.0                                   </td></tr>\n",
       "\t<tr><td>Archaeplastida;Chlorophyta;-                </td><td>ORDER                                       </td><td>      0.0                                   </td></tr>\n",
       "\t<tr><td>Archaeplastida;Chlorophyta;Chloropicophyceae</td><td>CLASS_SUM                                   </td><td>2535251.9                                   </td></tr>\n",
       "\t<tr><td>Archaeplastida;Chlorophyta;Chloropicophyceae</td><td>FAMILY                                      </td><td>  26222.0                                   </td></tr>\n",
       "\t<tr><td>Archaeplastida;Chlorophyta;Chloropicophyceae</td><td>ORDER                                       </td><td>      0.0                                   </td></tr>\n",
       "</tbody>\n",
       "</table>\n"
      ],
      "text/latex": [
       "\\begin{tabular}{r|lll}\n",
       " CLASS & name & SUM\\\\\n",
       "\\hline\n",
       "\t Archaeplastida;Chlorophyta;-                 & CLASS\\_SUM                                  &  647467.5                                   \\\\\n",
       "\t Archaeplastida;Chlorophyta;-                 & FAMILY                                       &       0.0                                   \\\\\n",
       "\t Archaeplastida;Chlorophyta;-                 & ORDER                                        &       0.0                                   \\\\\n",
       "\t Archaeplastida;Chlorophyta;Chloropicophyceae & CLASS\\_SUM                                  & 2535251.9                                   \\\\\n",
       "\t Archaeplastida;Chlorophyta;Chloropicophyceae & FAMILY                                       &   26222.0                                   \\\\\n",
       "\t Archaeplastida;Chlorophyta;Chloropicophyceae & ORDER                                        &       0.0                                   \\\\\n",
       "\\end{tabular}\n"
      ],
      "text/markdown": [
       "\n",
       "| CLASS | name | SUM |\n",
       "|---|---|---|\n",
       "| Archaeplastida;Chlorophyta;-                 | CLASS_SUM                                    |  647467.5                                    |\n",
       "| Archaeplastida;Chlorophyta;-                 | FAMILY                                       |       0.0                                    |\n",
       "| Archaeplastida;Chlorophyta;-                 | ORDER                                        |       0.0                                    |\n",
       "| Archaeplastida;Chlorophyta;Chloropicophyceae | CLASS_SUM                                    | 2535251.9                                    |\n",
       "| Archaeplastida;Chlorophyta;Chloropicophyceae | FAMILY                                       |   26222.0                                    |\n",
       "| Archaeplastida;Chlorophyta;Chloropicophyceae | ORDER                                        |       0.0                                    |\n",
       "\n"
      ],
      "text/plain": [
       "  CLASS                                        name      SUM      \n",
       "1 Archaeplastida;Chlorophyta;-                 CLASS_SUM  647467.5\n",
       "2 Archaeplastida;Chlorophyta;-                 FAMILY          0.0\n",
       "3 Archaeplastida;Chlorophyta;-                 ORDER           0.0\n",
       "4 Archaeplastida;Chlorophyta;Chloropicophyceae CLASS_SUM 2535251.9\n",
       "5 Archaeplastida;Chlorophyta;Chloropicophyceae FAMILY      26222.0\n",
       "6 Archaeplastida;Chlorophyta;Chloropicophyceae ORDER           0.0"
      ]
     },
     "metadata": {},
     "output_type": "display_data"
    },
    {
     "name": "stdout",
     "output_type": "stream",
     "text": [
      "'data.frame':\t45 obs. of  3 variables:\n",
      " $ CLASS: chr  \"Archaeplastida;Chlorophyta;-\" \"Archaeplastida;Chlorophyta;-\" \"Archaeplastida;Chlorophyta;-\" \"Archaeplastida;Chlorophyta;Chloropicophyceae\" ...\n",
      " $ name : chr  \"CLASS_SUM\" \"FAMILY\" \"ORDER\" \"CLASS_SUM\" ...\n",
      " $ SUM  : num  647468 0 0 2535252 26222 ...\n"
     ]
    }
   ],
   "source": [
    "# # Base information on the taxonomic naming of the MAGs\n",
    "# # head(mag_relab)\n",
    "# mag_plot <- mag_relab %>% \n",
    "#     filter(!is.na(supergroup)) %>% \n",
    "#     unite(CLASS, supergroup, division, class, sep = \";\", remove = FALSE) %>% \n",
    "#     group_by(CLASS) %>% \n",
    "#     mutate(CLASS_SUM = sum(relabun)) %>% \n",
    "#     mutate(ORDER = case_when(\n",
    "#         order == \"-\" ~ 0,\n",
    "#         TRUE ~ 0),\n",
    "#           FAMILY = case_when(\n",
    "#           family == \"-\" ~ 0,\n",
    "#           TRUE ~ 1)) %>% \n",
    "#     select(CLASS, CLASS_SUM, ORDER, FAMILY) %>%\n",
    "#     pivot_longer(CLASS_SUM:FAMILY) %>% \n",
    "#     group_by(CLASS, name) %>% \n",
    "#     summarise(SUM = sum(value)) %>% \n",
    "#     data.frame\n",
    "# head(mag_plot)\n",
    "# str(mag_plot)"
   ]
  },
  {
   "cell_type": "code",
   "execution_count": 201,
   "metadata": {},
   "outputs": [
    {
     "data": {
      "image/png": "[encoded data removed]",
      "text/plain": [
       "plot without title"
      ]
     },
     "metadata": {},
     "output_type": "display_data"
    }
   ],
   "source": [
    "ggplot(mag_plot, aes(x = name, y = SUM, fill = CLASS)) +\n",
    "    geom_bar(stat = \"identity\", position = \"stack\")"
   ]
  },
  {
   "cell_type": "code",
   "execution_count": null,
   "metadata": {},
   "outputs": [],
   "source": [
    "# # # FXN - perform linear regression\n",
    "# lm_best_fit <- function(df, r){\n",
    "#     df_final <- df %>% \n",
    "#     group_by(mag, seq) %>% \n",
    "#     do({lm.fit = lm(relabun.MAG ~ relabun.ASV, data = .)\n",
    "#        data.frame(tidy(lm.fit), glance(lm.fit))}) %>% \n",
    "#     select(mag, seq, r.squared, p.value, term, estimate) %>% \n",
    "#     spread(term, estimate) %>% \n",
    "#     select(everything(), -`(Intercept)`, slope = relabun.ASV) %>% \n",
    "#     filter(slope > 0) %>% \n",
    "#     filter(r.squared > r) %>% \n",
    "#     #\n",
    "\n",
    "    \n",
    "#     data.frame\n",
    "#     tmp_stats <- df_final %>% \n",
    "#     select(mag, seq, OCCUR, r.squared, p.value) %>% \n",
    "#     distinct()\n",
    "#     # Report:\n",
    "#     writeLines(paste(range(tmp_stats$r.squared)[1], \" min of r^2 values\"))\n",
    "#     writeLines(paste(range(tmp_stats$r.squared)[2], \" max of r^2 values\"))\n",
    "#     writeLines(paste(length(unique(tmp_stats$mag)),\" total MAGs\"))\n",
    "#     writeLines(paste(length(unique(tmp_stats$seq)),\" total ASVs\"))\n",
    "#     writeLines(paste(dim(tmp_stats)[1],\" total comparisons that will be plot\"))\n",
    "#     return(df_final)\n",
    "#     }\n",
    "\n",
    "\n",
    "\n",
    "# # Perform linear regression - select r^2 value to filter by\n",
    "# find_bestfit_r2 <- function(df, r){\n",
    "#     df %>% \n",
    "#     nest(-mag, -seq) %>% \n",
    "#     mutate(lm_fit = map(data, ~ lm(relabun.MAG ~ relabun.ASV, data = .)),\n",
    "#           results = map(lm_fit, glance)) %>% \n",
    "#     unnest(results) %>% \n",
    "#     select(mag, seq, r.squared, p.value) %>% \n",
    "#     right_join(df, by = c(\"mag\"=\"mag\", \"seq\"=\"seq\"))  %>% \n",
    "#     filter(r.squared > r) %>% \n",
    "#     data.frame\n",
    "#     }\n",
    "#\n",
    "# select best R2 and highest occur\n",
    "# # Run for everything, class and order\n",
    "# find_bestfit_rank <- function(df, number){\n",
    "#     df %>% \n",
    "#     group_by(mag, seq) %>% \n",
    "#     filter(slope > 0) %>% # Select non-negative slopes\n",
    "#     arrange(desc(r.squared)) %>% # NEED TO GET HIGHEST OCCURENCES\n",
    "#     top_n(number) %>% \n",
    "#     ungroup() %>% \n",
    "#     select(mag, seq, MAG_taxa = fullname.MAG, ASV_taxa = fullname.ASV, r.squared) %>% \n",
    "#     distinct() %>% \n",
    "#     data.frame\n",
    "#     }\n",
    "# How many unique ASV-MAG pairs will be compared?\n",
    "# check_stats_lm <- function(df) {\n",
    "#     tmp_stats <- df %>% \n",
    "#     select(mag, seq, OCCUR, r.squared, p.value) %>% \n",
    "#     distinct()\n",
    "#     # Report:\n",
    "#     writeLines(paste(range(tmp_stats$r.squared)[1], \" min of r^2 values\"))\n",
    "#     writeLines(paste(range(tmp_stats$r.squared)[2], \" max of r^2 values\"))\n",
    "#     writeLines(paste(length(unique(tmp_stats$mag)),\" total MAGs\"))\n",
    "#     writeLines(paste(length(unique(tmp_stats$seq)),\" total ASVs\"))\n",
    "#     writeLines(paste(dim(tmp_stats)[1],\" total comparisons that will be plot\"))\n",
    "#     }"
   ]
  }
 ],
 "metadata": {
  "kernelspec": {
   "display_name": "R",
   "language": "R",
   "name": "ir"
  },
  "language_info": {
   "codemirror_mode": "r",
   "file_extension": ".r",
   "mimetype": "text/x-r-source",
   "name": "R",
   "pygments_lexer": "r",
   "version": "3.6.1"
  }
 },
 "nbformat": 4,
 "nbformat_minor": 2
}
